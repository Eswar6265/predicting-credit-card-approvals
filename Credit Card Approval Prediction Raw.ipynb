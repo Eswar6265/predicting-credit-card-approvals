{
 "cells": [
  {
   "cell_type": "code",
   "execution_count": 1,
   "id": "37e64b67",
   "metadata": {},
   "outputs": [],
   "source": [
    "# Import necessary libraries\n",
    "import pandas as pd  # For handling data in DataFrame format\n",
    "import numpy as np  # For numerical operations and handling arrays\n",
    "import seaborn as sns  # For data visualization, especially statistical plots\n",
    "import matplotlib.pyplot as plt  # For creating plots and visualizations\n",
    "import warnings  # To handle and suppress warnings in the code\n",
    "from sklearn.utils import resample  # For data manipulation (e.g., resampling)\n",
    "\n",
    "# Ignore warnings to avoid cluttering the output with unnecessary messages\n",
    "warnings.filterwarnings(\"ignore\")"
   ]
  },
  {
   "cell_type": "code",
   "execution_count": 2,
   "id": "b0bd448c",
   "metadata": {},
   "outputs": [],
   "source": [
    "# Load the dataset for application records into a pandas DataFrame\n",
    "app = pd.read_csv('application_record.csv')\n",
    "\n",
    "# Load the dataset for credit records into a pandas DataFrame\n",
    "credit = pd.read_csv('credit_record.csv')"
   ]
  },
  {
   "cell_type": "code",
   "execution_count": 3,
   "id": "a8ab6cf7",
   "metadata": {},
   "outputs": [],
   "source": [
    "def bar_plot(df, column):\n",
    "    # Create a count plot (bar plot) for the specified column in the DataFrame\n",
    "    sns.countplot(data=df, x=column)\n",
    "    \n",
    "    # Add the x-axis label with the column name\n",
    "    plt.xlabel(column)\n",
    "    \n",
    "    # Add the y-axis label with 'Count'\n",
    "    plt.ylabel(\"Count\")\n",
    "    \n",
    "    # Display the plot\n",
    "    plt.show()"
   ]
  },
  {
   "cell_type": "code",
   "execution_count": 4,
   "id": "bd8a43c8",
   "metadata": {},
   "outputs": [
    {
     "data": {
      "text/html": [
       "<div>\n",
       "<style scoped>\n",
       "    .dataframe tbody tr th:only-of-type {\n",
       "        vertical-align: middle;\n",
       "    }\n",
       "\n",
       "    .dataframe tbody tr th {\n",
       "        vertical-align: top;\n",
       "    }\n",
       "\n",
       "    .dataframe thead th {\n",
       "        text-align: right;\n",
       "    }\n",
       "</style>\n",
       "<table border=\"1\" class=\"dataframe\">\n",
       "  <thead>\n",
       "    <tr style=\"text-align: right;\">\n",
       "      <th></th>\n",
       "      <th>ID</th>\n",
       "      <th>CODE_GENDER</th>\n",
       "      <th>FLAG_OWN_CAR</th>\n",
       "      <th>FLAG_OWN_REALTY</th>\n",
       "      <th>CNT_CHILDREN</th>\n",
       "      <th>AMT_INCOME_TOTAL</th>\n",
       "      <th>NAME_INCOME_TYPE</th>\n",
       "      <th>NAME_EDUCATION_TYPE</th>\n",
       "      <th>NAME_FAMILY_STATUS</th>\n",
       "      <th>NAME_HOUSING_TYPE</th>\n",
       "      <th>DAYS_BIRTH</th>\n",
       "      <th>DAYS_EMPLOYED</th>\n",
       "      <th>FLAG_MOBIL</th>\n",
       "      <th>FLAG_WORK_PHONE</th>\n",
       "      <th>FLAG_PHONE</th>\n",
       "      <th>FLAG_EMAIL</th>\n",
       "      <th>OCCUPATION_TYPE</th>\n",
       "      <th>CNT_FAM_MEMBERS</th>\n",
       "    </tr>\n",
       "  </thead>\n",
       "  <tbody>\n",
       "    <tr>\n",
       "      <th>0</th>\n",
       "      <td>5008804</td>\n",
       "      <td>M</td>\n",
       "      <td>Y</td>\n",
       "      <td>Y</td>\n",
       "      <td>0</td>\n",
       "      <td>427500.0</td>\n",
       "      <td>Working</td>\n",
       "      <td>Higher education</td>\n",
       "      <td>Civil marriage</td>\n",
       "      <td>Rented apartment</td>\n",
       "      <td>-12005</td>\n",
       "      <td>-4542</td>\n",
       "      <td>1</td>\n",
       "      <td>1</td>\n",
       "      <td>0</td>\n",
       "      <td>0</td>\n",
       "      <td>NaN</td>\n",
       "      <td>2.0</td>\n",
       "    </tr>\n",
       "    <tr>\n",
       "      <th>1</th>\n",
       "      <td>5008805</td>\n",
       "      <td>M</td>\n",
       "      <td>Y</td>\n",
       "      <td>Y</td>\n",
       "      <td>0</td>\n",
       "      <td>427500.0</td>\n",
       "      <td>Working</td>\n",
       "      <td>Higher education</td>\n",
       "      <td>Civil marriage</td>\n",
       "      <td>Rented apartment</td>\n",
       "      <td>-12005</td>\n",
       "      <td>-4542</td>\n",
       "      <td>1</td>\n",
       "      <td>1</td>\n",
       "      <td>0</td>\n",
       "      <td>0</td>\n",
       "      <td>NaN</td>\n",
       "      <td>2.0</td>\n",
       "    </tr>\n",
       "    <tr>\n",
       "      <th>2</th>\n",
       "      <td>5008806</td>\n",
       "      <td>M</td>\n",
       "      <td>Y</td>\n",
       "      <td>Y</td>\n",
       "      <td>0</td>\n",
       "      <td>112500.0</td>\n",
       "      <td>Working</td>\n",
       "      <td>Secondary / secondary special</td>\n",
       "      <td>Married</td>\n",
       "      <td>House / apartment</td>\n",
       "      <td>-21474</td>\n",
       "      <td>-1134</td>\n",
       "      <td>1</td>\n",
       "      <td>0</td>\n",
       "      <td>0</td>\n",
       "      <td>0</td>\n",
       "      <td>Security staff</td>\n",
       "      <td>2.0</td>\n",
       "    </tr>\n",
       "    <tr>\n",
       "      <th>3</th>\n",
       "      <td>5008808</td>\n",
       "      <td>F</td>\n",
       "      <td>N</td>\n",
       "      <td>Y</td>\n",
       "      <td>0</td>\n",
       "      <td>270000.0</td>\n",
       "      <td>Commercial associate</td>\n",
       "      <td>Secondary / secondary special</td>\n",
       "      <td>Single / not married</td>\n",
       "      <td>House / apartment</td>\n",
       "      <td>-19110</td>\n",
       "      <td>-3051</td>\n",
       "      <td>1</td>\n",
       "      <td>0</td>\n",
       "      <td>1</td>\n",
       "      <td>1</td>\n",
       "      <td>Sales staff</td>\n",
       "      <td>1.0</td>\n",
       "    </tr>\n",
       "    <tr>\n",
       "      <th>4</th>\n",
       "      <td>5008809</td>\n",
       "      <td>F</td>\n",
       "      <td>N</td>\n",
       "      <td>Y</td>\n",
       "      <td>0</td>\n",
       "      <td>270000.0</td>\n",
       "      <td>Commercial associate</td>\n",
       "      <td>Secondary / secondary special</td>\n",
       "      <td>Single / not married</td>\n",
       "      <td>House / apartment</td>\n",
       "      <td>-19110</td>\n",
       "      <td>-3051</td>\n",
       "      <td>1</td>\n",
       "      <td>0</td>\n",
       "      <td>1</td>\n",
       "      <td>1</td>\n",
       "      <td>Sales staff</td>\n",
       "      <td>1.0</td>\n",
       "    </tr>\n",
       "  </tbody>\n",
       "</table>\n",
       "</div>"
      ],
      "text/plain": [
       "        ID CODE_GENDER FLAG_OWN_CAR FLAG_OWN_REALTY  CNT_CHILDREN  \\\n",
       "0  5008804           M            Y               Y             0   \n",
       "1  5008805           M            Y               Y             0   \n",
       "2  5008806           M            Y               Y             0   \n",
       "3  5008808           F            N               Y             0   \n",
       "4  5008809           F            N               Y             0   \n",
       "\n",
       "   AMT_INCOME_TOTAL      NAME_INCOME_TYPE            NAME_EDUCATION_TYPE  \\\n",
       "0          427500.0               Working               Higher education   \n",
       "1          427500.0               Working               Higher education   \n",
       "2          112500.0               Working  Secondary / secondary special   \n",
       "3          270000.0  Commercial associate  Secondary / secondary special   \n",
       "4          270000.0  Commercial associate  Secondary / secondary special   \n",
       "\n",
       "     NAME_FAMILY_STATUS  NAME_HOUSING_TYPE  DAYS_BIRTH  DAYS_EMPLOYED  \\\n",
       "0        Civil marriage   Rented apartment      -12005          -4542   \n",
       "1        Civil marriage   Rented apartment      -12005          -4542   \n",
       "2               Married  House / apartment      -21474          -1134   \n",
       "3  Single / not married  House / apartment      -19110          -3051   \n",
       "4  Single / not married  House / apartment      -19110          -3051   \n",
       "\n",
       "   FLAG_MOBIL  FLAG_WORK_PHONE  FLAG_PHONE  FLAG_EMAIL OCCUPATION_TYPE  \\\n",
       "0           1                1           0           0             NaN   \n",
       "1           1                1           0           0             NaN   \n",
       "2           1                0           0           0  Security staff   \n",
       "3           1                0           1           1     Sales staff   \n",
       "4           1                0           1           1     Sales staff   \n",
       "\n",
       "   CNT_FAM_MEMBERS  \n",
       "0              2.0  \n",
       "1              2.0  \n",
       "2              2.0  \n",
       "3              1.0  \n",
       "4              1.0  "
      ]
     },
     "execution_count": 4,
     "metadata": {},
     "output_type": "execute_result"
    }
   ],
   "source": [
    "app.head()"
   ]
  },
  {
   "cell_type": "code",
   "execution_count": 5,
   "id": "c91f2fbe",
   "metadata": {},
   "outputs": [
    {
     "data": {
      "text/html": [
       "<div>\n",
       "<style scoped>\n",
       "    .dataframe tbody tr th:only-of-type {\n",
       "        vertical-align: middle;\n",
       "    }\n",
       "\n",
       "    .dataframe tbody tr th {\n",
       "        vertical-align: top;\n",
       "    }\n",
       "\n",
       "    .dataframe thead th {\n",
       "        text-align: right;\n",
       "    }\n",
       "</style>\n",
       "<table border=\"1\" class=\"dataframe\">\n",
       "  <thead>\n",
       "    <tr style=\"text-align: right;\">\n",
       "      <th></th>\n",
       "      <th>ID</th>\n",
       "      <th>MONTHS_BALANCE</th>\n",
       "      <th>STATUS</th>\n",
       "    </tr>\n",
       "  </thead>\n",
       "  <tbody>\n",
       "    <tr>\n",
       "      <th>0</th>\n",
       "      <td>5001711</td>\n",
       "      <td>0</td>\n",
       "      <td>X</td>\n",
       "    </tr>\n",
       "    <tr>\n",
       "      <th>1</th>\n",
       "      <td>5001711</td>\n",
       "      <td>-1</td>\n",
       "      <td>0</td>\n",
       "    </tr>\n",
       "    <tr>\n",
       "      <th>2</th>\n",
       "      <td>5001711</td>\n",
       "      <td>-2</td>\n",
       "      <td>0</td>\n",
       "    </tr>\n",
       "    <tr>\n",
       "      <th>3</th>\n",
       "      <td>5001711</td>\n",
       "      <td>-3</td>\n",
       "      <td>0</td>\n",
       "    </tr>\n",
       "    <tr>\n",
       "      <th>4</th>\n",
       "      <td>5001712</td>\n",
       "      <td>0</td>\n",
       "      <td>C</td>\n",
       "    </tr>\n",
       "  </tbody>\n",
       "</table>\n",
       "</div>"
      ],
      "text/plain": [
       "        ID  MONTHS_BALANCE STATUS\n",
       "0  5001711               0      X\n",
       "1  5001711              -1      0\n",
       "2  5001711              -2      0\n",
       "3  5001711              -3      0\n",
       "4  5001712               0      C"
      ]
     },
     "execution_count": 5,
     "metadata": {},
     "output_type": "execute_result"
    }
   ],
   "source": [
    "credit.head()"
   ]
  },
  {
   "cell_type": "code",
   "execution_count": 6,
   "id": "bd987ec0",
   "metadata": {},
   "outputs": [
    {
     "name": "stdout",
     "output_type": "stream",
     "text": [
      "<class 'pandas.core.frame.DataFrame'>\n",
      "RangeIndex: 438557 entries, 0 to 438556\n",
      "Data columns (total 18 columns):\n",
      " #   Column               Non-Null Count   Dtype  \n",
      "---  ------               --------------   -----  \n",
      " 0   ID                   438557 non-null  int64  \n",
      " 1   CODE_GENDER          438557 non-null  object \n",
      " 2   FLAG_OWN_CAR         438557 non-null  object \n",
      " 3   FLAG_OWN_REALTY      438557 non-null  object \n",
      " 4   CNT_CHILDREN         438557 non-null  int64  \n",
      " 5   AMT_INCOME_TOTAL     438557 non-null  float64\n",
      " 6   NAME_INCOME_TYPE     438557 non-null  object \n",
      " 7   NAME_EDUCATION_TYPE  438557 non-null  object \n",
      " 8   NAME_FAMILY_STATUS   438557 non-null  object \n",
      " 9   NAME_HOUSING_TYPE    438557 non-null  object \n",
      " 10  DAYS_BIRTH           438557 non-null  int64  \n",
      " 11  DAYS_EMPLOYED        438557 non-null  int64  \n",
      " 12  FLAG_MOBIL           438557 non-null  int64  \n",
      " 13  FLAG_WORK_PHONE      438557 non-null  int64  \n",
      " 14  FLAG_PHONE           438557 non-null  int64  \n",
      " 15  FLAG_EMAIL           438557 non-null  int64  \n",
      " 16  OCCUPATION_TYPE      304354 non-null  object \n",
      " 17  CNT_FAM_MEMBERS      438557 non-null  float64\n",
      "dtypes: float64(2), int64(8), object(8)\n",
      "memory usage: 60.2+ MB\n"
     ]
    }
   ],
   "source": [
    "app.info()"
   ]
  },
  {
   "cell_type": "code",
   "execution_count": 7,
   "id": "9c52f7b7",
   "metadata": {},
   "outputs": [
    {
     "name": "stdout",
     "output_type": "stream",
     "text": [
      "<class 'pandas.core.frame.DataFrame'>\n",
      "RangeIndex: 1048575 entries, 0 to 1048574\n",
      "Data columns (total 3 columns):\n",
      " #   Column          Non-Null Count    Dtype \n",
      "---  ------          --------------    ----- \n",
      " 0   ID              1048575 non-null  int64 \n",
      " 1   MONTHS_BALANCE  1048575 non-null  int64 \n",
      " 2   STATUS          1048575 non-null  object\n",
      "dtypes: int64(2), object(1)\n",
      "memory usage: 24.0+ MB\n"
     ]
    }
   ],
   "source": [
    "credit.info()"
   ]
  },
  {
   "cell_type": "code",
   "execution_count": 8,
   "id": "02af3b59",
   "metadata": {},
   "outputs": [],
   "source": [
    "# Group the 'credit' DataFrame by the 'ID' column and calculate the minimum 'MONTHS_BALANCE' for each group\n",
    "begin_month = pd.DataFrame(credit.groupby([\"ID\"])[\"MONTHS_BALANCE\"].agg(min))"
   ]
  },
  {
   "cell_type": "code",
   "execution_count": 9,
   "id": "db96ca38",
   "metadata": {},
   "outputs": [],
   "source": [
    "# Rename the 'MONTHS_BALANCE' column to 'first_month' in the 'begin_month' DataFrame\n",
    "begin_month = begin_month.rename(columns={'MONTHS_BALANCE': 'first_month'})"
   ]
  },
  {
   "cell_type": "code",
   "execution_count": 10,
   "id": "b6f939c9",
   "metadata": {},
   "outputs": [
    {
     "data": {
      "text/html": [
       "<div>\n",
       "<style scoped>\n",
       "    .dataframe tbody tr th:only-of-type {\n",
       "        vertical-align: middle;\n",
       "    }\n",
       "\n",
       "    .dataframe tbody tr th {\n",
       "        vertical-align: top;\n",
       "    }\n",
       "\n",
       "    .dataframe thead th {\n",
       "        text-align: right;\n",
       "    }\n",
       "</style>\n",
       "<table border=\"1\" class=\"dataframe\">\n",
       "  <thead>\n",
       "    <tr style=\"text-align: right;\">\n",
       "      <th></th>\n",
       "      <th>first_month</th>\n",
       "    </tr>\n",
       "    <tr>\n",
       "      <th>ID</th>\n",
       "      <th></th>\n",
       "    </tr>\n",
       "  </thead>\n",
       "  <tbody>\n",
       "    <tr>\n",
       "      <th>5001711</th>\n",
       "      <td>-3</td>\n",
       "    </tr>\n",
       "    <tr>\n",
       "      <th>5001712</th>\n",
       "      <td>-18</td>\n",
       "    </tr>\n",
       "    <tr>\n",
       "      <th>5001713</th>\n",
       "      <td>-21</td>\n",
       "    </tr>\n",
       "    <tr>\n",
       "      <th>5001714</th>\n",
       "      <td>-14</td>\n",
       "    </tr>\n",
       "    <tr>\n",
       "      <th>5001715</th>\n",
       "      <td>-59</td>\n",
       "    </tr>\n",
       "  </tbody>\n",
       "</table>\n",
       "</div>"
      ],
      "text/plain": [
       "         first_month\n",
       "ID                  \n",
       "5001711           -3\n",
       "5001712          -18\n",
       "5001713          -21\n",
       "5001714          -14\n",
       "5001715          -59"
      ]
     },
     "execution_count": 10,
     "metadata": {},
     "output_type": "execute_result"
    }
   ],
   "source": [
    "begin_month.head()"
   ]
  },
  {
   "cell_type": "code",
   "execution_count": 11,
   "id": "e619ad7f",
   "metadata": {},
   "outputs": [],
   "source": [
    "# Merge the 'app' DataFrame with the 'begin_month' DataFrame on the 'ID' column\n",
    "# Perform a left join to keep all rows from 'app' and match rows from 'begin_month'\n",
    "data = pd.merge(app, begin_month, how=\"left\", on=\"ID\")"
   ]
  },
  {
   "cell_type": "code",
   "execution_count": 12,
   "id": "0e233d87",
   "metadata": {},
   "outputs": [
    {
     "data": {
      "text/plain": [
       "(438557, 18)"
      ]
     },
     "execution_count": 12,
     "metadata": {},
     "output_type": "execute_result"
    }
   ],
   "source": [
    "app.shape"
   ]
  },
  {
   "cell_type": "code",
   "execution_count": 13,
   "id": "24da3f2c",
   "metadata": {},
   "outputs": [
    {
     "data": {
      "text/plain": [
       "STATUS\n",
       "C    442031\n",
       "0    383120\n",
       "X    209230\n",
       "1     11090\n",
       "5      1693\n",
       "2       868\n",
       "3       320\n",
       "4       223\n",
       "Name: count, dtype: int64"
      ]
     },
     "execution_count": 13,
     "metadata": {},
     "output_type": "execute_result"
    }
   ],
   "source": [
    "credit['STATUS'].value_counts()"
   ]
  },
  {
   "cell_type": "code",
   "execution_count": 14,
   "id": "4f21a691",
   "metadata": {},
   "outputs": [],
   "source": [
    "# Replace 'C' and 'X' values in the 'STATUS' column with 0 (missing or inactive status)\n",
    "credit['STATUS'].replace({'C': 0, 'X': 0}, inplace=True)\n",
    "# Convert the 'STATUS' column to integer type\n",
    "credit['STATUS'] = credit['STATUS'].astype('int')\n",
    "# Apply a lambda function to convert any positive value in 'STATUS' to 1, and 0 otherwise\n",
    "credit['STATUS'] = credit['STATUS'].apply(lambda x: 1 if x > 0 else 0)"
   ]
  },
  {
   "cell_type": "code",
   "execution_count": 15,
   "id": "30d4f32c",
   "metadata": {},
   "outputs": [],
   "source": [
    "# Drop the 'MONTHS_BALANCE' column from the 'credit' DataFrame\n",
    "df = credit.drop('MONTHS_BALANCE', axis=1)\n",
    "\n",
    "# Merge the 'data' DataFrame with the modified 'df' DataFrame on the 'ID' column\n",
    "# Perform a left join to keep all rows from 'data' and match rows from 'df'\n",
    "data = pd.merge(data, df, how=\"left\", on=\"ID\")"
   ]
  },
  {
   "cell_type": "code",
   "execution_count": 16,
   "id": "8ad15fbd",
   "metadata": {},
   "outputs": [
    {
     "data": {
      "text/plain": [
       "ID                          0\n",
       "CODE_GENDER                 0\n",
       "FLAG_OWN_CAR                0\n",
       "FLAG_OWN_REALTY             0\n",
       "CNT_CHILDREN                0\n",
       "AMT_INCOME_TOTAL            0\n",
       "NAME_INCOME_TYPE            0\n",
       "NAME_EDUCATION_TYPE         0\n",
       "NAME_FAMILY_STATUS          0\n",
       "NAME_HOUSING_TYPE           0\n",
       "DAYS_BIRTH                  0\n",
       "DAYS_EMPLOYED               0\n",
       "FLAG_MOBIL                  0\n",
       "FLAG_WORK_PHONE             0\n",
       "FLAG_PHONE                  0\n",
       "FLAG_EMAIL                  0\n",
       "OCCUPATION_TYPE        362928\n",
       "CNT_FAM_MEMBERS             0\n",
       "first_month            402100\n",
       "STATUS                 402100\n",
       "dtype: int64"
      ]
     },
     "execution_count": 16,
     "metadata": {},
     "output_type": "execute_result"
    }
   ],
   "source": [
    "# Check for missing (null) values in the 'data' DataFrame and sum them for each column\n",
    "data.isnull().sum()"
   ]
  },
  {
   "cell_type": "code",
   "execution_count": 17,
   "id": "8a2286b9",
   "metadata": {},
   "outputs": [],
   "source": [
    "# Drop the 'OCCUPATION_TYPE' column from the 'data' DataFrame due to missing values\n",
    "data.drop(columns=[\"OCCUPATION_TYPE\"], inplace=True)"
   ]
  },
  {
   "cell_type": "code",
   "execution_count": 18,
   "id": "765f1ef5",
   "metadata": {},
   "outputs": [
    {
     "data": {
      "text/html": [
       "<div>\n",
       "<style scoped>\n",
       "    .dataframe tbody tr th:only-of-type {\n",
       "        vertical-align: middle;\n",
       "    }\n",
       "\n",
       "    .dataframe tbody tr th {\n",
       "        vertical-align: top;\n",
       "    }\n",
       "\n",
       "    .dataframe thead th {\n",
       "        text-align: right;\n",
       "    }\n",
       "</style>\n",
       "<table border=\"1\" class=\"dataframe\">\n",
       "  <thead>\n",
       "    <tr style=\"text-align: right;\">\n",
       "      <th></th>\n",
       "      <th>ID</th>\n",
       "      <th>CODE_GENDER</th>\n",
       "      <th>FLAG_OWN_CAR</th>\n",
       "      <th>FLAG_OWN_REALTY</th>\n",
       "      <th>CNT_CHILDREN</th>\n",
       "      <th>AMT_INCOME_TOTAL</th>\n",
       "      <th>NAME_INCOME_TYPE</th>\n",
       "      <th>NAME_EDUCATION_TYPE</th>\n",
       "      <th>NAME_FAMILY_STATUS</th>\n",
       "      <th>NAME_HOUSING_TYPE</th>\n",
       "      <th>DAYS_BIRTH</th>\n",
       "      <th>DAYS_EMPLOYED</th>\n",
       "      <th>FLAG_MOBIL</th>\n",
       "      <th>FLAG_WORK_PHONE</th>\n",
       "      <th>FLAG_PHONE</th>\n",
       "      <th>FLAG_EMAIL</th>\n",
       "      <th>CNT_FAM_MEMBERS</th>\n",
       "      <th>first_month</th>\n",
       "      <th>STATUS</th>\n",
       "    </tr>\n",
       "  </thead>\n",
       "  <tbody>\n",
       "    <tr>\n",
       "      <th>0</th>\n",
       "      <td>5008804</td>\n",
       "      <td>M</td>\n",
       "      <td>Y</td>\n",
       "      <td>Y</td>\n",
       "      <td>0</td>\n",
       "      <td>427500.0</td>\n",
       "      <td>Working</td>\n",
       "      <td>Higher education</td>\n",
       "      <td>Civil marriage</td>\n",
       "      <td>Rented apartment</td>\n",
       "      <td>-12005</td>\n",
       "      <td>-4542</td>\n",
       "      <td>1</td>\n",
       "      <td>1</td>\n",
       "      <td>0</td>\n",
       "      <td>0</td>\n",
       "      <td>2.0</td>\n",
       "      <td>-15.0</td>\n",
       "      <td>0.0</td>\n",
       "    </tr>\n",
       "    <tr>\n",
       "      <th>1</th>\n",
       "      <td>5008804</td>\n",
       "      <td>M</td>\n",
       "      <td>Y</td>\n",
       "      <td>Y</td>\n",
       "      <td>0</td>\n",
       "      <td>427500.0</td>\n",
       "      <td>Working</td>\n",
       "      <td>Higher education</td>\n",
       "      <td>Civil marriage</td>\n",
       "      <td>Rented apartment</td>\n",
       "      <td>-12005</td>\n",
       "      <td>-4542</td>\n",
       "      <td>1</td>\n",
       "      <td>1</td>\n",
       "      <td>0</td>\n",
       "      <td>0</td>\n",
       "      <td>2.0</td>\n",
       "      <td>-15.0</td>\n",
       "      <td>0.0</td>\n",
       "    </tr>\n",
       "    <tr>\n",
       "      <th>2</th>\n",
       "      <td>5008804</td>\n",
       "      <td>M</td>\n",
       "      <td>Y</td>\n",
       "      <td>Y</td>\n",
       "      <td>0</td>\n",
       "      <td>427500.0</td>\n",
       "      <td>Working</td>\n",
       "      <td>Higher education</td>\n",
       "      <td>Civil marriage</td>\n",
       "      <td>Rented apartment</td>\n",
       "      <td>-12005</td>\n",
       "      <td>-4542</td>\n",
       "      <td>1</td>\n",
       "      <td>1</td>\n",
       "      <td>0</td>\n",
       "      <td>0</td>\n",
       "      <td>2.0</td>\n",
       "      <td>-15.0</td>\n",
       "      <td>0.0</td>\n",
       "    </tr>\n",
       "    <tr>\n",
       "      <th>3</th>\n",
       "      <td>5008804</td>\n",
       "      <td>M</td>\n",
       "      <td>Y</td>\n",
       "      <td>Y</td>\n",
       "      <td>0</td>\n",
       "      <td>427500.0</td>\n",
       "      <td>Working</td>\n",
       "      <td>Higher education</td>\n",
       "      <td>Civil marriage</td>\n",
       "      <td>Rented apartment</td>\n",
       "      <td>-12005</td>\n",
       "      <td>-4542</td>\n",
       "      <td>1</td>\n",
       "      <td>1</td>\n",
       "      <td>0</td>\n",
       "      <td>0</td>\n",
       "      <td>2.0</td>\n",
       "      <td>-15.0</td>\n",
       "      <td>0.0</td>\n",
       "    </tr>\n",
       "    <tr>\n",
       "      <th>4</th>\n",
       "      <td>5008804</td>\n",
       "      <td>M</td>\n",
       "      <td>Y</td>\n",
       "      <td>Y</td>\n",
       "      <td>0</td>\n",
       "      <td>427500.0</td>\n",
       "      <td>Working</td>\n",
       "      <td>Higher education</td>\n",
       "      <td>Civil marriage</td>\n",
       "      <td>Rented apartment</td>\n",
       "      <td>-12005</td>\n",
       "      <td>-4542</td>\n",
       "      <td>1</td>\n",
       "      <td>1</td>\n",
       "      <td>0</td>\n",
       "      <td>0</td>\n",
       "      <td>2.0</td>\n",
       "      <td>-15.0</td>\n",
       "      <td>0.0</td>\n",
       "    </tr>\n",
       "  </tbody>\n",
       "</table>\n",
       "</div>"
      ],
      "text/plain": [
       "        ID CODE_GENDER FLAG_OWN_CAR FLAG_OWN_REALTY  CNT_CHILDREN  \\\n",
       "0  5008804           M            Y               Y             0   \n",
       "1  5008804           M            Y               Y             0   \n",
       "2  5008804           M            Y               Y             0   \n",
       "3  5008804           M            Y               Y             0   \n",
       "4  5008804           M            Y               Y             0   \n",
       "\n",
       "   AMT_INCOME_TOTAL NAME_INCOME_TYPE NAME_EDUCATION_TYPE NAME_FAMILY_STATUS  \\\n",
       "0          427500.0          Working    Higher education     Civil marriage   \n",
       "1          427500.0          Working    Higher education     Civil marriage   \n",
       "2          427500.0          Working    Higher education     Civil marriage   \n",
       "3          427500.0          Working    Higher education     Civil marriage   \n",
       "4          427500.0          Working    Higher education     Civil marriage   \n",
       "\n",
       "  NAME_HOUSING_TYPE  DAYS_BIRTH  DAYS_EMPLOYED  FLAG_MOBIL  FLAG_WORK_PHONE  \\\n",
       "0  Rented apartment      -12005          -4542           1                1   \n",
       "1  Rented apartment      -12005          -4542           1                1   \n",
       "2  Rented apartment      -12005          -4542           1                1   \n",
       "3  Rented apartment      -12005          -4542           1                1   \n",
       "4  Rented apartment      -12005          -4542           1                1   \n",
       "\n",
       "   FLAG_PHONE  FLAG_EMAIL  CNT_FAM_MEMBERS  first_month  STATUS  \n",
       "0           0           0              2.0        -15.0     0.0  \n",
       "1           0           0              2.0        -15.0     0.0  \n",
       "2           0           0              2.0        -15.0     0.0  \n",
       "3           0           0              2.0        -15.0     0.0  \n",
       "4           0           0              2.0        -15.0     0.0  "
      ]
     },
     "execution_count": 18,
     "metadata": {},
     "output_type": "execute_result"
    }
   ],
   "source": [
    "data.head()"
   ]
  },
  {
   "cell_type": "code",
   "execution_count": 19,
   "id": "5ee38328",
   "metadata": {},
   "outputs": [],
   "source": [
    "data.dropna(inplace = True)"
   ]
  },
  {
   "cell_type": "code",
   "execution_count": 20,
   "id": "2b127a73",
   "metadata": {},
   "outputs": [],
   "source": [
    "data.drop(\"ID\" , axis = 1 , inplace = True)"
   ]
  },
  {
   "cell_type": "code",
   "execution_count": 21,
   "id": "7477766c",
   "metadata": {},
   "outputs": [
    {
     "data": {
      "text/plain": [
       "CODE_GENDER\n",
       "F    518851\n",
       "M    258864\n",
       "Name: count, dtype: int64"
      ]
     },
     "execution_count": 21,
     "metadata": {},
     "output_type": "execute_result"
    }
   ],
   "source": [
    "data[\"CODE_GENDER\"].value_counts()"
   ]
  },
  {
   "cell_type": "code",
   "execution_count": 22,
   "id": "0763d6ed",
   "metadata": {},
   "outputs": [
    {
     "data": {
      "text/plain": [
       "count     777715\n",
       "unique         2\n",
       "top            F\n",
       "freq      518851\n",
       "Name: CODE_GENDER, dtype: object"
      ]
     },
     "execution_count": 22,
     "metadata": {},
     "output_type": "execute_result"
    }
   ],
   "source": [
    "data[\"CODE_GENDER\"].describe()"
   ]
  },
  {
   "cell_type": "code",
   "execution_count": 26,
   "id": "11b853df",
   "metadata": {},
   "outputs": [
    {
     "data": {
      "image/png": "[encoded data removed]",
      "text/plain": [
       "<Figure size 640x480 with 1 Axes>"
      ]
     },
     "metadata": {},
     "output_type": "display_data"
    }
   ],
   "source": [
    "bar_plot(data , \"CODE_GENDER\")"
   ]
  },
  {
   "cell_type": "code",
   "execution_count": 23,
   "id": "a2d8f785",
   "metadata": {},
   "outputs": [
    {
     "data": {
      "text/plain": [
       "FLAG_OWN_CAR\n",
       "N    473355\n",
       "Y    304360\n",
       "Name: count, dtype: int64"
      ]
     },
     "execution_count": 23,
     "metadata": {},
     "output_type": "execute_result"
    }
   ],
   "source": [
    "data[\"FLAG_OWN_CAR\"].value_counts()"
   ]
  },
  {
   "cell_type": "code",
   "execution_count": 24,
   "id": "9bceca76",
   "metadata": {},
   "outputs": [
    {
     "data": {
      "text/plain": [
       "FLAG_OWN_REALTY\n",
       "Y    512948\n",
       "N    264767\n",
       "Name: count, dtype: int64"
      ]
     },
     "execution_count": 24,
     "metadata": {},
     "output_type": "execute_result"
    }
   ],
   "source": [
    "data[\"FLAG_OWN_REALTY\"].value_counts()"
   ]
  },
  {
   "cell_type": "code",
   "execution_count": 25,
   "id": "aa9c76ed",
   "metadata": {},
   "outputs": [
    {
     "data": {
      "image/png": "[encoded data removed]",
      "text/plain": [
       "<Figure size 640x480 with 1 Axes>"
      ]
     },
     "metadata": {},
     "output_type": "display_data"
    }
   ],
   "source": [
    "bar_plot(data , \"FLAG_OWN_REALTY\")"
   ]
  },
  {
   "cell_type": "code",
   "execution_count": 26,
   "id": "440b1955",
   "metadata": {},
   "outputs": [
    {
     "data": {
      "text/plain": [
       "CNT_CHILDREN\n",
       "0     540639\n",
       "1     155638\n",
       "2      70399\n",
       "3       9328\n",
       "4       1224\n",
       "5        324\n",
       "14       111\n",
       "7         46\n",
       "19         6\n",
       "Name: count, dtype: int64"
      ]
     },
     "execution_count": 26,
     "metadata": {},
     "output_type": "execute_result"
    }
   ],
   "source": [
    "data[\"CNT_CHILDREN\"].value_counts()"
   ]
  },
  {
   "cell_type": "code",
   "execution_count": 27,
   "id": "707200c2",
   "metadata": {},
   "outputs": [
    {
     "data": {
      "text/plain": [
       "count    777715.000000\n",
       "mean          0.428082\n",
       "std           0.745755\n",
       "min           0.000000\n",
       "25%           0.000000\n",
       "50%           0.000000\n",
       "75%           1.000000\n",
       "max          19.000000\n",
       "Name: CNT_CHILDREN, dtype: float64"
      ]
     },
     "execution_count": 27,
     "metadata": {},
     "output_type": "execute_result"
    }
   ],
   "source": [
    "data[\"CNT_CHILDREN\"].describe()"
   ]
  },
  {
   "cell_type": "code",
   "execution_count": 28,
   "id": "f692cab4",
   "metadata": {},
   "outputs": [
    {
     "data": {
      "text/plain": [
       "CNT_CHILDREN\n",
       "0    540639\n",
       "1    155638\n",
       "2     70399\n",
       "3     11039\n",
       "Name: count, dtype: int64"
      ]
     },
     "execution_count": 28,
     "metadata": {},
     "output_type": "execute_result"
    }
   ],
   "source": [
    "# Replace values in the 'CNT_CHILDREN' column that are greater than 3 with 3\n",
    "data.loc[data[\"CNT_CHILDREN\"] > 3, \"CNT_CHILDREN\"] = 3\n",
    "\n",
    "# Check the count of unique values in the 'CNT_CHILDREN' column\n",
    "data[\"CNT_CHILDREN\"].value_counts()"
   ]
  },
  {
   "cell_type": "code",
   "execution_count": 29,
   "id": "eff71c8d",
   "metadata": {},
   "outputs": [
    {
     "data": {
      "text/plain": [
       "count    7.777150e+05\n",
       "mean     1.885348e+05\n",
       "std      1.016225e+05\n",
       "min      2.700000e+04\n",
       "25%      1.215000e+05\n",
       "50%      1.620000e+05\n",
       "75%      2.250000e+05\n",
       "max      1.575000e+06\n",
       "Name: AMT_INCOME_TOTAL, dtype: float64"
      ]
     },
     "execution_count": 29,
     "metadata": {},
     "output_type": "execute_result"
    }
   ],
   "source": [
    "data[\"AMT_INCOME_TOTAL\"].describe()"
   ]
  },
  {
   "cell_type": "code",
   "execution_count": 30,
   "id": "58305ba1",
   "metadata": {},
   "outputs": [
    {
     "data": {
      "text/plain": [
       "<Axes: xlabel='AMT_INCOME_TOTAL'>"
      ]
     },
     "execution_count": 30,
     "metadata": {},
     "output_type": "execute_result"
    },
    {
     "data": {
      "image/png": "[encoded data removed]",
      "text/plain": [
       "<Figure size 640x480 with 1 Axes>"
      ]
     },
     "metadata": {},
     "output_type": "display_data"
    }
   ],
   "source": [
    "sns.boxplot(data = data , x=data[\"AMT_INCOME_TOTAL\"] )"
   ]
  },
  {
   "cell_type": "code",
   "execution_count": 31,
   "id": "f3d2eb0a",
   "metadata": {},
   "outputs": [
    {
     "data": {
      "image/png": "[encoded data removed]",
      "text/plain": [
       "<Figure size 640x480 with 1 Axes>"
      ]
     },
     "metadata": {},
     "output_type": "display_data"
    }
   ],
   "source": [
    "from sklearn.preprocessing import MinMaxScaler\n",
    "\n",
    "# Initialize the MinMaxScaler\n",
    "scaler = MinMaxScaler()\n",
    "\n",
    "# Fit and transform the 'AMT_INCOME_TOTAL' column to scale it between 0 and 1\n",
    "normalized_column = scaler.fit_transform(data[[\"AMT_INCOME_TOTAL\"]])\n",
    "\n",
    "# Create a histogram with a Kernel Density Estimate (KDE) to show the distribution of the normalized column\n",
    "sns.histplot(normalized_column, kde=True, bins=30)\n",
    "\n",
    "# Add a title and labels to the plot\n",
    "plt.title(\"Distribution of Transformed Column\")\n",
    "plt.xlabel(\"Value\")\n",
    "plt.ylabel(\"Frequency\")\n",
    "\n",
    "# Show the plot\n",
    "plt.show()"
   ]
  },
  {
   "cell_type": "code",
   "execution_count": 32,
   "id": "bbdea485",
   "metadata": {},
   "outputs": [
    {
     "name": "stdout",
     "output_type": "stream",
     "text": [
      "count    766887.000000\n",
      "mean     181818.684887\n",
      "std       82502.057119\n",
      "min       27000.000000\n",
      "25%      121500.000000\n",
      "50%      157500.000000\n",
      "75%      225000.000000\n",
      "max      472500.000000\n",
      "Name: AMT_INCOME_TOTAL, dtype: float64\n"
     ]
    },
    {
     "data": {
      "image/png": "[encoded data removed]",
      "text/plain": [
       "<Figure size 640x480 with 1 Axes>"
      ]
     },
     "metadata": {},
     "output_type": "display_data"
    }
   ],
   "source": [
    "# Step 1: Save the original 'AMT_INCOME_TOTAL' column in a new column\n",
    "data[\"AMT_INCOME_TOTAL_ORIGINAL\"] = data[\"AMT_INCOME_TOTAL\"]\n",
    "\n",
    "# Step 2: Normalize the 'AMT_INCOME_TOTAL' column using MinMaxScaler\n",
    "scaler = MinMaxScaler()\n",
    "data[\"AMT_INCOME_TOTAL_NORMALIZED\"] = scaler.fit_transform(data[[\"AMT_INCOME_TOTAL\"]])\n",
    "\n",
    "# Step 3: Remove rows where the normalized 'AMT_INCOME_TOTAL' is greater than 0.3\n",
    "data = data[data[\"AMT_INCOME_TOTAL_NORMALIZED\"] <= 0.3].reset_index(drop=True)\n",
    "\n",
    "# Step 4: Restore the original 'AMT_INCOME_TOTAL' column\n",
    "data[\"AMT_INCOME_TOTAL\"] = data[\"AMT_INCOME_TOTAL_ORIGINAL\"]\n",
    "\n",
    "# Step 5: Drop the normalized columns to clean the data\n",
    "data.drop(columns=[\"AMT_INCOME_TOTAL_NORMALIZED\", \"AMT_INCOME_TOTAL_ORIGINAL\"], inplace=True)\n",
    "\n",
    "# Step 6: Print the descriptive statistics for the 'AMT_INCOME_TOTAL' column\n",
    "print(data[\"AMT_INCOME_TOTAL\"].describe())\n",
    "\n",
    "# Step 7: Plot the distribution of 'AMT_INCOME_TOTAL' after removing outliers\n",
    "sns.histplot(data[\"AMT_INCOME_TOTAL\"], kde=True, bins=30)\n",
    "plt.title(\"Distribution of AMT_INCOME_TOTAL After Removing Outliers\")\n",
    "plt.xlabel(\"Value\")\n",
    "plt.ylabel(\"Frequency\")\n",
    "plt.show()"
   ]
  },
  {
   "cell_type": "code",
   "execution_count": 33,
   "id": "8a33a379",
   "metadata": {},
   "outputs": [
    {
     "data": {
      "text/plain": [
       "NAME_INCOME_TYPE\n",
       "Working                 396095\n",
       "Commercial associate    178085\n",
       "Pensioner               127886\n",
       "State servant            64484\n",
       "Student                    337\n",
       "Name: count, dtype: int64"
      ]
     },
     "execution_count": 33,
     "metadata": {},
     "output_type": "execute_result"
    }
   ],
   "source": [
    "data[\"NAME_INCOME_TYPE\"].value_counts()"
   ]
  },
  {
   "cell_type": "code",
   "execution_count": 34,
   "id": "1d3dfbbf",
   "metadata": {},
   "outputs": [
    {
     "name": "stdout",
     "output_type": "stream",
     "text": [
      "NAME_INCOME_TYPE\n",
      "Working                 396095\n",
      "Commercial associate    178085\n",
      "State servant            64484\n",
      "Name: count, dtype: int64\n"
     ]
    }
   ],
   "source": [
    "# Filter out rows where the 'NAME_INCOME_TYPE' is 'Pensioner' or 'Student'\n",
    "data = data[~data[\"NAME_INCOME_TYPE\"].isin([\"Pensioner\", \"Student\"])].reset_index(drop=True)\n",
    "\n",
    "# Display the value counts for the 'NAME_INCOME_TYPE' column after filtering\n",
    "print(data[\"NAME_INCOME_TYPE\"].value_counts())"
   ]
  },
  {
   "cell_type": "code",
   "execution_count": 35,
   "id": "03f01cac",
   "metadata": {},
   "outputs": [
    {
     "data": {
      "text/plain": [
       "NAME_EDUCATION_TYPE\n",
       "Secondary / secondary special    419468\n",
       "Higher education                 184876\n",
       "Incomplete higher                 28314\n",
       "Lower secondary                    5187\n",
       "Academic degree                     819\n",
       "Name: count, dtype: int64"
      ]
     },
     "execution_count": 35,
     "metadata": {},
     "output_type": "execute_result"
    }
   ],
   "source": [
    "data[\"NAME_EDUCATION_TYPE\"].value_counts()"
   ]
  },
  {
   "cell_type": "code",
   "execution_count": 36,
   "id": "fded71fc",
   "metadata": {},
   "outputs": [
    {
     "name": "stdout",
     "output_type": "stream",
     "text": [
      "NAME_EDUCATION_TYPE\n",
      "Pre-university education           424655\n",
      "University education / complete    214009\n",
      "Name: count, dtype: int64\n"
     ]
    }
   ],
   "source": [
    "# Define a mapping of old education types to new categories\n",
    "education_mapping = {\n",
    "    \"Higher education\": \"University education / complete\",\n",
    "    \"Incomplete higher\": \"University education / complete\",\n",
    "    \"Academic degree\": \"University education / complete\",\n",
    "    \"Secondary / secondary special\": \"Pre-university education\",\n",
    "    \"Lower secondary\": \"Pre-university education\"\n",
    "}\n",
    "\n",
    "# Replace the values in the 'NAME_EDUCATION_TYPE' column based on the mapping\n",
    "data[\"NAME_EDUCATION_TYPE\"] = data[\"NAME_EDUCATION_TYPE\"].replace(education_mapping)\n",
    "\n",
    "# Display the value counts for the 'NAME_EDUCATION_TYPE' column after replacement\n",
    "print(data[\"NAME_EDUCATION_TYPE\"].value_counts())"
   ]
  },
  {
   "cell_type": "code",
   "execution_count": 37,
   "id": "6f652e2f",
   "metadata": {},
   "outputs": [
    {
     "data": {
      "text/plain": [
       "NAME_HOUSING_TYPE\n",
       "House / apartment      564151\n",
       "With parents            35154\n",
       "Municipal apartment     20918\n",
       "Rented apartment        10128\n",
       "Office apartment         4847\n",
       "Co-op apartment          3466\n",
       "Name: count, dtype: int64"
      ]
     },
     "execution_count": 37,
     "metadata": {},
     "output_type": "execute_result"
    }
   ],
   "source": [
    "data[\"NAME_HOUSING_TYPE\"].value_counts()"
   ]
  },
  {
   "cell_type": "code",
   "execution_count": 38,
   "id": "c1fed31a",
   "metadata": {},
   "outputs": [
    {
     "data": {
      "text/plain": [
       "count    638664.000000\n",
       "mean     -14987.132522\n",
       "std        3443.411137\n",
       "min      -24611.000000\n",
       "25%      -17615.000000\n",
       "50%      -14768.000000\n",
       "75%      -12175.000000\n",
       "max       -7489.000000\n",
       "Name: DAYS_BIRTH, dtype: float64"
      ]
     },
     "execution_count": 38,
     "metadata": {},
     "output_type": "execute_result"
    }
   ],
   "source": [
    "data[\"DAYS_BIRTH\"].describe()"
   ]
  },
  {
   "cell_type": "code",
   "execution_count": 39,
   "id": "d3531440",
   "metadata": {},
   "outputs": [
    {
     "data": {
      "text/plain": [
       "<Axes: xlabel='DAYS_BIRTH'>"
      ]
     },
     "execution_count": 39,
     "metadata": {},
     "output_type": "execute_result"
    },
    {
     "data": {
      "image/png": "[encoded data removed]",
      "text/plain": [
       "<Figure size 640x480 with 1 Axes>"
      ]
     },
     "metadata": {},
     "output_type": "display_data"
    }
   ],
   "source": [
    "sns.boxplot(data = data , x=data[\"DAYS_BIRTH\"] )"
   ]
  },
  {
   "cell_type": "code",
   "execution_count": 40,
   "id": "7196a6c9",
   "metadata": {},
   "outputs": [
    {
     "data": {
      "image/png": "[encoded data removed]",
      "text/plain": [
       "<Figure size 640x480 with 1 Axes>"
      ]
     },
     "metadata": {},
     "output_type": "display_data"
    }
   ],
   "source": [
    "sns.histplot(data[\"DAYS_BIRTH\"], kde=True, bins=30)\n",
    "plt.title(\"Distribution\")\n",
    "plt.xlabel(\"Value\")\n",
    "plt.ylabel(\"Frequency\")\n",
    "plt.show()"
   ]
  },
  {
   "cell_type": "code",
   "execution_count": 41,
   "id": "1b75e9e8",
   "metadata": {},
   "outputs": [
    {
     "data": {
      "text/plain": [
       "count    638664.000000\n",
       "mean      -2783.301775\n",
       "std        2426.475842\n",
       "min      -15713.000000\n",
       "25%       -3668.000000\n",
       "50%       -2170.000000\n",
       "75%       -1048.000000\n",
       "max         -17.000000\n",
       "Name: DAYS_EMPLOYED, dtype: float64"
      ]
     },
     "execution_count": 41,
     "metadata": {},
     "output_type": "execute_result"
    }
   ],
   "source": [
    "data[\"DAYS_EMPLOYED\"].describe()"
   ]
  },
  {
   "cell_type": "code",
   "execution_count": 42,
   "id": "17787e36",
   "metadata": {},
   "outputs": [
    {
     "data": {
      "text/plain": [
       "<Axes: xlabel='DAYS_EMPLOYED'>"
      ]
     },
     "execution_count": 42,
     "metadata": {},
     "output_type": "execute_result"
    },
    {
     "data": {
      "image/png": "[encoded data removed]",
      "text/plain": [
       "<Figure size 640x480 with 1 Axes>"
      ]
     },
     "metadata": {},
     "output_type": "display_data"
    }
   ],
   "source": [
    "sns.boxplot(data = data , x=data[\"DAYS_EMPLOYED\"] )"
   ]
  },
  {
   "cell_type": "code",
   "execution_count": 43,
   "id": "bb6f02c4",
   "metadata": {},
   "outputs": [
    {
     "data": {
      "image/png": "[encoded data removed]",
      "text/plain": [
       "<Figure size 640x480 with 1 Axes>"
      ]
     },
     "metadata": {},
     "output_type": "display_data"
    }
   ],
   "source": [
    "sns.histplot(data[\"DAYS_EMPLOYED\"], kde=True, bins=30)\n",
    "plt.title(\"Distribution\")\n",
    "plt.xlabel(\"Value\")\n",
    "plt.ylabel(\"Frequency\")\n",
    "plt.show()"
   ]
  },
  {
   "cell_type": "code",
   "execution_count": 44,
   "id": "f1f6c6ee",
   "metadata": {},
   "outputs": [
    {
     "data": {
      "image/png": "[encoded data removed]",
      "text/plain": [
       "<Figure size 640x480 with 1 Axes>"
      ]
     },
     "metadata": {},
     "output_type": "display_data"
    }
   ],
   "source": [
    "normalized_column = scaler.fit_transform(data[[\"DAYS_EMPLOYED\"]])\n",
    "\n",
    "\n",
    "sns.histplot(normalized_column, kde=True, bins=30)\n",
    "plt.title(\"Distribution of Transformed Column\")\n",
    "plt.xlabel(\"Value\")\n",
    "plt.ylabel(\"Frequency\")\n",
    "plt.show()"
   ]
  },
  {
   "cell_type": "code",
   "execution_count": 45,
   "id": "597af738",
   "metadata": {},
   "outputs": [
    {
     "name": "stdout",
     "output_type": "stream",
     "text": [
      "count    622482.000000\n",
      "mean      -2560.500554\n",
      "std        2003.334315\n",
      "min       -9422.000000\n",
      "25%       -3506.000000\n",
      "50%       -2092.000000\n",
      "75%       -1018.000000\n",
      "max         -17.000000\n",
      "Name: DAYS_EMPLOYED, dtype: float64\n"
     ]
    },
    {
     "data": {
      "image/png": "[encoded data removed]",
      "text/plain": [
       "<Figure size 640x480 with 1 Axes>"
      ]
     },
     "metadata": {},
     "output_type": "display_data"
    }
   ],
   "source": [
    "# Save the original 'DAYS_EMPLOYED' column as a backup\n",
    "data[\"DAYS_EMPLOYED_ORIGINAL\"] = data[\"DAYS_EMPLOYED\"]\n",
    "\n",
    "# Normalize the 'DAYS_EMPLOYED' column using MinMaxScaler\n",
    "scaler = MinMaxScaler()\n",
    "data[\"DAYS_EMPLOYED_NORMALIZED\"] = scaler.fit_transform(data[[\"DAYS_EMPLOYED\"]])\n",
    "\n",
    "# Filter out rows where the normalized 'DAYS_EMPLOYED' is less than 0.4\n",
    "data = data[data[\"DAYS_EMPLOYED_NORMALIZED\"] >= 0.4].reset_index(drop=True)\n",
    "\n",
    "# Restore the original 'DAYS_EMPLOYED' column\n",
    "data[\"DAYS_EMPLOYED\"] = data[\"DAYS_EMPLOYED_ORIGINAL\"]\n",
    "\n",
    "# Drop the temporary normalized columns\n",
    "data.drop(columns=[\"DAYS_EMPLOYED_NORMALIZED\", \"DAYS_EMPLOYED_ORIGINAL\"], inplace=True)\n",
    "\n",
    "# Display the descriptive statistics of the 'DAYS_EMPLOYED' column\n",
    "print(data[\"DAYS_EMPLOYED\"].describe())\n",
    "\n",
    "# Plot the distribution of 'DAYS_EMPLOYED' after removing outliers\n",
    "sns.histplot(data[\"DAYS_EMPLOYED\"], kde=True, bins=30)\n",
    "plt.title(\"Distribution of DAYS_EMPLOYED After Removing Outliers\")\n",
    "plt.xlabel(\"Value\")\n",
    "plt.ylabel(\"Frequency\")\n",
    "plt.show()"
   ]
  },
  {
   "cell_type": "code",
   "execution_count": 46,
   "id": "db95dca5",
   "metadata": {},
   "outputs": [
    {
     "data": {
      "text/plain": [
       "FLAG_MOBIL\n",
       "1    622482\n",
       "Name: count, dtype: int64"
      ]
     },
     "execution_count": 46,
     "metadata": {},
     "output_type": "execute_result"
    }
   ],
   "source": [
    "data[\"FLAG_MOBIL\"].value_counts()"
   ]
  },
  {
   "cell_type": "code",
   "execution_count": 47,
   "id": "c3535f0b",
   "metadata": {},
   "outputs": [],
   "source": [
    "data = data.drop(columns=[\"FLAG_MOBIL\"])"
   ]
  },
  {
   "cell_type": "code",
   "execution_count": 48,
   "id": "64e4aca1",
   "metadata": {},
   "outputs": [],
   "source": [
    "data.drop(columns=[\"FLAG_EMAIL\"] , inplace = True)"
   ]
  },
  {
   "cell_type": "code",
   "execution_count": 49,
   "id": "3bdc4811",
   "metadata": {},
   "outputs": [
    {
     "data": {
      "text/plain": [
       "FLAG_WORK_PHONE\n",
       "0    448962\n",
       "1    173520\n",
       "Name: count, dtype: int64"
      ]
     },
     "execution_count": 49,
     "metadata": {},
     "output_type": "execute_result"
    }
   ],
   "source": [
    "data[\"FLAG_WORK_PHONE\"].value_counts()"
   ]
  },
  {
   "cell_type": "code",
   "execution_count": 50,
   "id": "a9b6b80a",
   "metadata": {},
   "outputs": [
    {
     "data": {
      "text/plain": [
       "CNT_FAM_MEMBERS\n",
       "2.0     321949\n",
       "3.0     128378\n",
       "1.0      96631\n",
       "4.0      65174\n",
       "5.0       8724\n",
       "6.0       1190\n",
       "7.0        273\n",
       "15.0       111\n",
       "9.0         46\n",
       "20.0         6\n",
       "Name: count, dtype: int64"
      ]
     },
     "execution_count": 50,
     "metadata": {},
     "output_type": "execute_result"
    }
   ],
   "source": [
    "data[\"CNT_FAM_MEMBERS\"].value_counts()"
   ]
  },
  {
   "cell_type": "code",
   "execution_count": 51,
   "id": "4e8bdf76",
   "metadata": {},
   "outputs": [
    {
     "name": "stdout",
     "output_type": "stream",
     "text": [
      "CNT_FAM_MEMBERS\n",
      "2.0    321949\n",
      "3.0    128378\n",
      "1.0     96631\n",
      "4.0     65174\n",
      "Name: count, dtype: int64\n"
     ]
    }
   ],
   "source": [
    "data = data[data[\"CNT_FAM_MEMBERS\"] <= 4]\n",
    "\n",
    "print(data[\"CNT_FAM_MEMBERS\"].value_counts())"
   ]
  },
  {
   "cell_type": "code",
   "execution_count": 52,
   "id": "77590d5d",
   "metadata": {},
   "outputs": [
    {
     "data": {
      "text/plain": [
       "count    612132.000000\n",
       "mean        -34.662395\n",
       "std          15.009878\n",
       "min         -60.000000\n",
       "25%         -47.000000\n",
       "50%         -36.000000\n",
       "75%         -23.000000\n",
       "max           0.000000\n",
       "Name: first_month, dtype: float64"
      ]
     },
     "execution_count": 52,
     "metadata": {},
     "output_type": "execute_result"
    }
   ],
   "source": [
    "data[\"first_month\"].describe()"
   ]
  },
  {
   "cell_type": "code",
   "execution_count": 53,
   "id": "96b46cdb",
   "metadata": {},
   "outputs": [
    {
     "data": {
      "text/plain": [
       "<Axes: xlabel='first_month'>"
      ]
     },
     "execution_count": 53,
     "metadata": {},
     "output_type": "execute_result"
    },
    {
     "data": {
      "image/png": "[encoded data removed]",
      "text/plain": [
       "<Figure size 640x480 with 1 Axes>"
      ]
     },
     "metadata": {},
     "output_type": "display_data"
    }
   ],
   "source": [
    "sns.boxplot(data = data , x=data[\"first_month\"] )"
   ]
  },
  {
   "cell_type": "code",
   "execution_count": 54,
   "id": "1a880cd8",
   "metadata": {},
   "outputs": [
    {
     "data": {
      "text/html": [
       "<div>\n",
       "<style scoped>\n",
       "    .dataframe tbody tr th:only-of-type {\n",
       "        vertical-align: middle;\n",
       "    }\n",
       "\n",
       "    .dataframe tbody tr th {\n",
       "        vertical-align: top;\n",
       "    }\n",
       "\n",
       "    .dataframe thead th {\n",
       "        text-align: right;\n",
       "    }\n",
       "</style>\n",
       "<table border=\"1\" class=\"dataframe\">\n",
       "  <thead>\n",
       "    <tr style=\"text-align: right;\">\n",
       "      <th></th>\n",
       "      <th>AGE_YEARS</th>\n",
       "      <th>YEARS_EMPLOYED</th>\n",
       "    </tr>\n",
       "  </thead>\n",
       "  <tbody>\n",
       "    <tr>\n",
       "      <th>0</th>\n",
       "      <td>32.9</td>\n",
       "      <td>12.4</td>\n",
       "    </tr>\n",
       "    <tr>\n",
       "      <th>1</th>\n",
       "      <td>32.9</td>\n",
       "      <td>12.4</td>\n",
       "    </tr>\n",
       "    <tr>\n",
       "      <th>2</th>\n",
       "      <td>32.9</td>\n",
       "      <td>12.4</td>\n",
       "    </tr>\n",
       "    <tr>\n",
       "      <th>3</th>\n",
       "      <td>32.9</td>\n",
       "      <td>12.4</td>\n",
       "    </tr>\n",
       "    <tr>\n",
       "      <th>4</th>\n",
       "      <td>32.9</td>\n",
       "      <td>12.4</td>\n",
       "    </tr>\n",
       "  </tbody>\n",
       "</table>\n",
       "</div>"
      ],
      "text/plain": [
       "   AGE_YEARS  YEARS_EMPLOYED\n",
       "0       32.9            12.4\n",
       "1       32.9            12.4\n",
       "2       32.9            12.4\n",
       "3       32.9            12.4\n",
       "4       32.9            12.4"
      ]
     },
     "execution_count": 54,
     "metadata": {},
     "output_type": "execute_result"
    }
   ],
   "source": [
    "# Calculate 'AGE_YEARS' by dividing 'DAYS_BIRTH' by -365 and rounding to 1 decimal place\n",
    "data['AGE_YEARS'] = (data['DAYS_BIRTH'] / -365).round(1)  \n",
    "\n",
    "# Calculate 'YEARS_EMPLOYED' by dividing 'DAYS_EMPLOYED' by -365 and rounding to 1 decimal place\n",
    "data['YEARS_EMPLOYED'] = (data['DAYS_EMPLOYED'] / -365).round(1)\n",
    "\n",
    "# Display the first few rows of 'AGE_YEARS' and 'YEARS_EMPLOYED' columns\n",
    "data[['AGE_YEARS', 'YEARS_EMPLOYED']].head()"
   ]
  },
  {
   "cell_type": "code",
   "execution_count": 55,
   "id": "65c2d7e9",
   "metadata": {},
   "outputs": [],
   "source": [
    "data.drop(columns = [\"DAYS_BIRTH\" , \"DAYS_EMPLOYED\"] , axis = 1 , inplace = True)"
   ]
  },
  {
   "cell_type": "code",
   "execution_count": 60,
   "id": "cdc7b727",
   "metadata": {},
   "outputs": [
    {
     "data": {
      "text/html": [
       "<div>\n",
       "<style scoped>\n",
       "    .dataframe tbody tr th:only-of-type {\n",
       "        vertical-align: middle;\n",
       "    }\n",
       "\n",
       "    .dataframe tbody tr th {\n",
       "        vertical-align: top;\n",
       "    }\n",
       "\n",
       "    .dataframe thead th {\n",
       "        text-align: right;\n",
       "    }\n",
       "</style>\n",
       "<table border=\"1\" class=\"dataframe\">\n",
       "  <thead>\n",
       "    <tr style=\"text-align: right;\">\n",
       "      <th></th>\n",
       "      <th>CODE_GENDER</th>\n",
       "      <th>FLAG_OWN_CAR</th>\n",
       "      <th>FLAG_OWN_REALTY</th>\n",
       "      <th>CNT_CHILDREN</th>\n",
       "      <th>AMT_INCOME_TOTAL</th>\n",
       "      <th>NAME_INCOME_TYPE</th>\n",
       "      <th>NAME_EDUCATION_TYPE</th>\n",
       "      <th>NAME_FAMILY_STATUS</th>\n",
       "      <th>NAME_HOUSING_TYPE</th>\n",
       "      <th>FLAG_WORK_PHONE</th>\n",
       "      <th>FLAG_PHONE</th>\n",
       "      <th>CNT_FAM_MEMBERS</th>\n",
       "      <th>first_month</th>\n",
       "      <th>STATUS</th>\n",
       "      <th>AGE_YEARS</th>\n",
       "      <th>YEARS_EMPLOYED</th>\n",
       "    </tr>\n",
       "  </thead>\n",
       "  <tbody>\n",
       "    <tr>\n",
       "      <th>0</th>\n",
       "      <td>M</td>\n",
       "      <td>Y</td>\n",
       "      <td>Y</td>\n",
       "      <td>0</td>\n",
       "      <td>427500.0</td>\n",
       "      <td>Working</td>\n",
       "      <td>University education / complete</td>\n",
       "      <td>Civil marriage</td>\n",
       "      <td>Rented apartment</td>\n",
       "      <td>1</td>\n",
       "      <td>0</td>\n",
       "      <td>2.0</td>\n",
       "      <td>-15.0</td>\n",
       "      <td>0.0</td>\n",
       "      <td>32.9</td>\n",
       "      <td>12.4</td>\n",
       "    </tr>\n",
       "    <tr>\n",
       "      <th>1</th>\n",
       "      <td>M</td>\n",
       "      <td>Y</td>\n",
       "      <td>Y</td>\n",
       "      <td>0</td>\n",
       "      <td>427500.0</td>\n",
       "      <td>Working</td>\n",
       "      <td>University education / complete</td>\n",
       "      <td>Civil marriage</td>\n",
       "      <td>Rented apartment</td>\n",
       "      <td>1</td>\n",
       "      <td>0</td>\n",
       "      <td>2.0</td>\n",
       "      <td>-15.0</td>\n",
       "      <td>0.0</td>\n",
       "      <td>32.9</td>\n",
       "      <td>12.4</td>\n",
       "    </tr>\n",
       "    <tr>\n",
       "      <th>2</th>\n",
       "      <td>M</td>\n",
       "      <td>Y</td>\n",
       "      <td>Y</td>\n",
       "      <td>0</td>\n",
       "      <td>427500.0</td>\n",
       "      <td>Working</td>\n",
       "      <td>University education / complete</td>\n",
       "      <td>Civil marriage</td>\n",
       "      <td>Rented apartment</td>\n",
       "      <td>1</td>\n",
       "      <td>0</td>\n",
       "      <td>2.0</td>\n",
       "      <td>-15.0</td>\n",
       "      <td>0.0</td>\n",
       "      <td>32.9</td>\n",
       "      <td>12.4</td>\n",
       "    </tr>\n",
       "    <tr>\n",
       "      <th>3</th>\n",
       "      <td>M</td>\n",
       "      <td>Y</td>\n",
       "      <td>Y</td>\n",
       "      <td>0</td>\n",
       "      <td>427500.0</td>\n",
       "      <td>Working</td>\n",
       "      <td>University education / complete</td>\n",
       "      <td>Civil marriage</td>\n",
       "      <td>Rented apartment</td>\n",
       "      <td>1</td>\n",
       "      <td>0</td>\n",
       "      <td>2.0</td>\n",
       "      <td>-15.0</td>\n",
       "      <td>0.0</td>\n",
       "      <td>32.9</td>\n",
       "      <td>12.4</td>\n",
       "    </tr>\n",
       "    <tr>\n",
       "      <th>4</th>\n",
       "      <td>M</td>\n",
       "      <td>Y</td>\n",
       "      <td>Y</td>\n",
       "      <td>0</td>\n",
       "      <td>427500.0</td>\n",
       "      <td>Working</td>\n",
       "      <td>University education / complete</td>\n",
       "      <td>Civil marriage</td>\n",
       "      <td>Rented apartment</td>\n",
       "      <td>1</td>\n",
       "      <td>0</td>\n",
       "      <td>2.0</td>\n",
       "      <td>-15.0</td>\n",
       "      <td>0.0</td>\n",
       "      <td>32.9</td>\n",
       "      <td>12.4</td>\n",
       "    </tr>\n",
       "    <tr>\n",
       "      <th>...</th>\n",
       "      <td>...</td>\n",
       "      <td>...</td>\n",
       "      <td>...</td>\n",
       "      <td>...</td>\n",
       "      <td>...</td>\n",
       "      <td>...</td>\n",
       "      <td>...</td>\n",
       "      <td>...</td>\n",
       "      <td>...</td>\n",
       "      <td>...</td>\n",
       "      <td>...</td>\n",
       "      <td>...</td>\n",
       "      <td>...</td>\n",
       "      <td>...</td>\n",
       "      <td>...</td>\n",
       "      <td>...</td>\n",
       "    </tr>\n",
       "    <tr>\n",
       "      <th>622477</th>\n",
       "      <td>M</td>\n",
       "      <td>N</td>\n",
       "      <td>Y</td>\n",
       "      <td>0</td>\n",
       "      <td>112500.0</td>\n",
       "      <td>Working</td>\n",
       "      <td>Pre-university education</td>\n",
       "      <td>Single / not married</td>\n",
       "      <td>Rented apartment</td>\n",
       "      <td>0</td>\n",
       "      <td>0</td>\n",
       "      <td>1.0</td>\n",
       "      <td>-13.0</td>\n",
       "      <td>0.0</td>\n",
       "      <td>25.2</td>\n",
       "      <td>3.3</td>\n",
       "    </tr>\n",
       "    <tr>\n",
       "      <th>622478</th>\n",
       "      <td>M</td>\n",
       "      <td>N</td>\n",
       "      <td>Y</td>\n",
       "      <td>0</td>\n",
       "      <td>112500.0</td>\n",
       "      <td>Working</td>\n",
       "      <td>Pre-university education</td>\n",
       "      <td>Single / not married</td>\n",
       "      <td>Rented apartment</td>\n",
       "      <td>0</td>\n",
       "      <td>0</td>\n",
       "      <td>1.0</td>\n",
       "      <td>-13.0</td>\n",
       "      <td>1.0</td>\n",
       "      <td>25.2</td>\n",
       "      <td>3.3</td>\n",
       "    </tr>\n",
       "    <tr>\n",
       "      <th>622479</th>\n",
       "      <td>M</td>\n",
       "      <td>N</td>\n",
       "      <td>Y</td>\n",
       "      <td>0</td>\n",
       "      <td>112500.0</td>\n",
       "      <td>Working</td>\n",
       "      <td>Pre-university education</td>\n",
       "      <td>Single / not married</td>\n",
       "      <td>Rented apartment</td>\n",
       "      <td>0</td>\n",
       "      <td>0</td>\n",
       "      <td>1.0</td>\n",
       "      <td>-13.0</td>\n",
       "      <td>1.0</td>\n",
       "      <td>25.2</td>\n",
       "      <td>3.3</td>\n",
       "    </tr>\n",
       "    <tr>\n",
       "      <th>622480</th>\n",
       "      <td>M</td>\n",
       "      <td>N</td>\n",
       "      <td>Y</td>\n",
       "      <td>0</td>\n",
       "      <td>112500.0</td>\n",
       "      <td>Working</td>\n",
       "      <td>Pre-university education</td>\n",
       "      <td>Single / not married</td>\n",
       "      <td>Rented apartment</td>\n",
       "      <td>0</td>\n",
       "      <td>0</td>\n",
       "      <td>1.0</td>\n",
       "      <td>-13.0</td>\n",
       "      <td>0.0</td>\n",
       "      <td>25.2</td>\n",
       "      <td>3.3</td>\n",
       "    </tr>\n",
       "    <tr>\n",
       "      <th>622481</th>\n",
       "      <td>M</td>\n",
       "      <td>N</td>\n",
       "      <td>Y</td>\n",
       "      <td>0</td>\n",
       "      <td>112500.0</td>\n",
       "      <td>Working</td>\n",
       "      <td>Pre-university education</td>\n",
       "      <td>Single / not married</td>\n",
       "      <td>Rented apartment</td>\n",
       "      <td>0</td>\n",
       "      <td>0</td>\n",
       "      <td>1.0</td>\n",
       "      <td>-13.0</td>\n",
       "      <td>0.0</td>\n",
       "      <td>25.2</td>\n",
       "      <td>3.3</td>\n",
       "    </tr>\n",
       "  </tbody>\n",
       "</table>\n",
       "<p>612132 rows × 16 columns</p>\n",
       "</div>"
      ],
      "text/plain": [
       "       CODE_GENDER FLAG_OWN_CAR FLAG_OWN_REALTY  CNT_CHILDREN  \\\n",
       "0                M            Y               Y             0   \n",
       "1                M            Y               Y             0   \n",
       "2                M            Y               Y             0   \n",
       "3                M            Y               Y             0   \n",
       "4                M            Y               Y             0   \n",
       "...            ...          ...             ...           ...   \n",
       "622477           M            N               Y             0   \n",
       "622478           M            N               Y             0   \n",
       "622479           M            N               Y             0   \n",
       "622480           M            N               Y             0   \n",
       "622481           M            N               Y             0   \n",
       "\n",
       "        AMT_INCOME_TOTAL NAME_INCOME_TYPE              NAME_EDUCATION_TYPE  \\\n",
       "0               427500.0          Working  University education / complete   \n",
       "1               427500.0          Working  University education / complete   \n",
       "2               427500.0          Working  University education / complete   \n",
       "3               427500.0          Working  University education / complete   \n",
       "4               427500.0          Working  University education / complete   \n",
       "...                  ...              ...                              ...   \n",
       "622477          112500.0          Working         Pre-university education   \n",
       "622478          112500.0          Working         Pre-university education   \n",
       "622479          112500.0          Working         Pre-university education   \n",
       "622480          112500.0          Working         Pre-university education   \n",
       "622481          112500.0          Working         Pre-university education   \n",
       "\n",
       "          NAME_FAMILY_STATUS NAME_HOUSING_TYPE  FLAG_WORK_PHONE  FLAG_PHONE  \\\n",
       "0             Civil marriage  Rented apartment                1           0   \n",
       "1             Civil marriage  Rented apartment                1           0   \n",
       "2             Civil marriage  Rented apartment                1           0   \n",
       "3             Civil marriage  Rented apartment                1           0   \n",
       "4             Civil marriage  Rented apartment                1           0   \n",
       "...                      ...               ...              ...         ...   \n",
       "622477  Single / not married  Rented apartment                0           0   \n",
       "622478  Single / not married  Rented apartment                0           0   \n",
       "622479  Single / not married  Rented apartment                0           0   \n",
       "622480  Single / not married  Rented apartment                0           0   \n",
       "622481  Single / not married  Rented apartment                0           0   \n",
       "\n",
       "        CNT_FAM_MEMBERS  first_month  STATUS  AGE_YEARS  YEARS_EMPLOYED  \n",
       "0                   2.0        -15.0     0.0       32.9            12.4  \n",
       "1                   2.0        -15.0     0.0       32.9            12.4  \n",
       "2                   2.0        -15.0     0.0       32.9            12.4  \n",
       "3                   2.0        -15.0     0.0       32.9            12.4  \n",
       "4                   2.0        -15.0     0.0       32.9            12.4  \n",
       "...                 ...          ...     ...        ...             ...  \n",
       "622477              1.0        -13.0     0.0       25.2             3.3  \n",
       "622478              1.0        -13.0     1.0       25.2             3.3  \n",
       "622479              1.0        -13.0     1.0       25.2             3.3  \n",
       "622480              1.0        -13.0     0.0       25.2             3.3  \n",
       "622481              1.0        -13.0     0.0       25.2             3.3  \n",
       "\n",
       "[612132 rows x 16 columns]"
      ]
     },
     "execution_count": 60,
     "metadata": {},
     "output_type": "execute_result"
    }
   ],
   "source": [
    "data"
   ]
  },
  {
   "cell_type": "code",
   "execution_count": 56,
   "id": "c16f7fbb",
   "metadata": {},
   "outputs": [
    {
     "data": {
      "text/html": [
       "<div>\n",
       "<style scoped>\n",
       "    .dataframe tbody tr th:only-of-type {\n",
       "        vertical-align: middle;\n",
       "    }\n",
       "\n",
       "    .dataframe tbody tr th {\n",
       "        vertical-align: top;\n",
       "    }\n",
       "\n",
       "    .dataframe thead th {\n",
       "        text-align: right;\n",
       "    }\n",
       "</style>\n",
       "<table border=\"1\" class=\"dataframe\">\n",
       "  <thead>\n",
       "    <tr style=\"text-align: right;\">\n",
       "      <th></th>\n",
       "      <th>CODE_GENDER</th>\n",
       "      <th>FLAG_OWN_CAR</th>\n",
       "      <th>FLAG_OWN_REALTY</th>\n",
       "      <th>CNT_CHILDREN</th>\n",
       "      <th>AMT_INCOME_TOTAL</th>\n",
       "      <th>NAME_INCOME_TYPE</th>\n",
       "      <th>NAME_EDUCATION_TYPE</th>\n",
       "      <th>NAME_FAMILY_STATUS</th>\n",
       "      <th>NAME_HOUSING_TYPE</th>\n",
       "      <th>FLAG_WORK_PHONE</th>\n",
       "      <th>FLAG_PHONE</th>\n",
       "      <th>CNT_FAM_MEMBERS</th>\n",
       "      <th>first_month</th>\n",
       "      <th>STATUS</th>\n",
       "      <th>AGE_YEARS</th>\n",
       "      <th>YEARS_EMPLOYED</th>\n",
       "    </tr>\n",
       "  </thead>\n",
       "  <tbody>\n",
       "    <tr>\n",
       "      <th>0</th>\n",
       "      <td>1</td>\n",
       "      <td>1</td>\n",
       "      <td>1</td>\n",
       "      <td>0</td>\n",
       "      <td>427500.0</td>\n",
       "      <td>2</td>\n",
       "      <td>1</td>\n",
       "      <td>0</td>\n",
       "      <td>4</td>\n",
       "      <td>1</td>\n",
       "      <td>0</td>\n",
       "      <td>2.0</td>\n",
       "      <td>-15.0</td>\n",
       "      <td>0.0</td>\n",
       "      <td>32.9</td>\n",
       "      <td>12.4</td>\n",
       "    </tr>\n",
       "    <tr>\n",
       "      <th>1</th>\n",
       "      <td>1</td>\n",
       "      <td>1</td>\n",
       "      <td>1</td>\n",
       "      <td>0</td>\n",
       "      <td>427500.0</td>\n",
       "      <td>2</td>\n",
       "      <td>1</td>\n",
       "      <td>0</td>\n",
       "      <td>4</td>\n",
       "      <td>1</td>\n",
       "      <td>0</td>\n",
       "      <td>2.0</td>\n",
       "      <td>-15.0</td>\n",
       "      <td>0.0</td>\n",
       "      <td>32.9</td>\n",
       "      <td>12.4</td>\n",
       "    </tr>\n",
       "    <tr>\n",
       "      <th>2</th>\n",
       "      <td>1</td>\n",
       "      <td>1</td>\n",
       "      <td>1</td>\n",
       "      <td>0</td>\n",
       "      <td>427500.0</td>\n",
       "      <td>2</td>\n",
       "      <td>1</td>\n",
       "      <td>0</td>\n",
       "      <td>4</td>\n",
       "      <td>1</td>\n",
       "      <td>0</td>\n",
       "      <td>2.0</td>\n",
       "      <td>-15.0</td>\n",
       "      <td>0.0</td>\n",
       "      <td>32.9</td>\n",
       "      <td>12.4</td>\n",
       "    </tr>\n",
       "    <tr>\n",
       "      <th>3</th>\n",
       "      <td>1</td>\n",
       "      <td>1</td>\n",
       "      <td>1</td>\n",
       "      <td>0</td>\n",
       "      <td>427500.0</td>\n",
       "      <td>2</td>\n",
       "      <td>1</td>\n",
       "      <td>0</td>\n",
       "      <td>4</td>\n",
       "      <td>1</td>\n",
       "      <td>0</td>\n",
       "      <td>2.0</td>\n",
       "      <td>-15.0</td>\n",
       "      <td>0.0</td>\n",
       "      <td>32.9</td>\n",
       "      <td>12.4</td>\n",
       "    </tr>\n",
       "    <tr>\n",
       "      <th>4</th>\n",
       "      <td>1</td>\n",
       "      <td>1</td>\n",
       "      <td>1</td>\n",
       "      <td>0</td>\n",
       "      <td>427500.0</td>\n",
       "      <td>2</td>\n",
       "      <td>1</td>\n",
       "      <td>0</td>\n",
       "      <td>4</td>\n",
       "      <td>1</td>\n",
       "      <td>0</td>\n",
       "      <td>2.0</td>\n",
       "      <td>-15.0</td>\n",
       "      <td>0.0</td>\n",
       "      <td>32.9</td>\n",
       "      <td>12.4</td>\n",
       "    </tr>\n",
       "    <tr>\n",
       "      <th>...</th>\n",
       "      <td>...</td>\n",
       "      <td>...</td>\n",
       "      <td>...</td>\n",
       "      <td>...</td>\n",
       "      <td>...</td>\n",
       "      <td>...</td>\n",
       "      <td>...</td>\n",
       "      <td>...</td>\n",
       "      <td>...</td>\n",
       "      <td>...</td>\n",
       "      <td>...</td>\n",
       "      <td>...</td>\n",
       "      <td>...</td>\n",
       "      <td>...</td>\n",
       "      <td>...</td>\n",
       "      <td>...</td>\n",
       "    </tr>\n",
       "    <tr>\n",
       "      <th>622477</th>\n",
       "      <td>1</td>\n",
       "      <td>0</td>\n",
       "      <td>1</td>\n",
       "      <td>0</td>\n",
       "      <td>112500.0</td>\n",
       "      <td>2</td>\n",
       "      <td>0</td>\n",
       "      <td>3</td>\n",
       "      <td>4</td>\n",
       "      <td>0</td>\n",
       "      <td>0</td>\n",
       "      <td>1.0</td>\n",
       "      <td>-13.0</td>\n",
       "      <td>0.0</td>\n",
       "      <td>25.2</td>\n",
       "      <td>3.3</td>\n",
       "    </tr>\n",
       "    <tr>\n",
       "      <th>622478</th>\n",
       "      <td>1</td>\n",
       "      <td>0</td>\n",
       "      <td>1</td>\n",
       "      <td>0</td>\n",
       "      <td>112500.0</td>\n",
       "      <td>2</td>\n",
       "      <td>0</td>\n",
       "      <td>3</td>\n",
       "      <td>4</td>\n",
       "      <td>0</td>\n",
       "      <td>0</td>\n",
       "      <td>1.0</td>\n",
       "      <td>-13.0</td>\n",
       "      <td>1.0</td>\n",
       "      <td>25.2</td>\n",
       "      <td>3.3</td>\n",
       "    </tr>\n",
       "    <tr>\n",
       "      <th>622479</th>\n",
       "      <td>1</td>\n",
       "      <td>0</td>\n",
       "      <td>1</td>\n",
       "      <td>0</td>\n",
       "      <td>112500.0</td>\n",
       "      <td>2</td>\n",
       "      <td>0</td>\n",
       "      <td>3</td>\n",
       "      <td>4</td>\n",
       "      <td>0</td>\n",
       "      <td>0</td>\n",
       "      <td>1.0</td>\n",
       "      <td>-13.0</td>\n",
       "      <td>1.0</td>\n",
       "      <td>25.2</td>\n",
       "      <td>3.3</td>\n",
       "    </tr>\n",
       "    <tr>\n",
       "      <th>622480</th>\n",
       "      <td>1</td>\n",
       "      <td>0</td>\n",
       "      <td>1</td>\n",
       "      <td>0</td>\n",
       "      <td>112500.0</td>\n",
       "      <td>2</td>\n",
       "      <td>0</td>\n",
       "      <td>3</td>\n",
       "      <td>4</td>\n",
       "      <td>0</td>\n",
       "      <td>0</td>\n",
       "      <td>1.0</td>\n",
       "      <td>-13.0</td>\n",
       "      <td>0.0</td>\n",
       "      <td>25.2</td>\n",
       "      <td>3.3</td>\n",
       "    </tr>\n",
       "    <tr>\n",
       "      <th>622481</th>\n",
       "      <td>1</td>\n",
       "      <td>0</td>\n",
       "      <td>1</td>\n",
       "      <td>0</td>\n",
       "      <td>112500.0</td>\n",
       "      <td>2</td>\n",
       "      <td>0</td>\n",
       "      <td>3</td>\n",
       "      <td>4</td>\n",
       "      <td>0</td>\n",
       "      <td>0</td>\n",
       "      <td>1.0</td>\n",
       "      <td>-13.0</td>\n",
       "      <td>0.0</td>\n",
       "      <td>25.2</td>\n",
       "      <td>3.3</td>\n",
       "    </tr>\n",
       "  </tbody>\n",
       "</table>\n",
       "<p>612132 rows × 16 columns</p>\n",
       "</div>"
      ],
      "text/plain": [
       "        CODE_GENDER  FLAG_OWN_CAR  FLAG_OWN_REALTY  CNT_CHILDREN  \\\n",
       "0                 1             1                1             0   \n",
       "1                 1             1                1             0   \n",
       "2                 1             1                1             0   \n",
       "3                 1             1                1             0   \n",
       "4                 1             1                1             0   \n",
       "...             ...           ...              ...           ...   \n",
       "622477            1             0                1             0   \n",
       "622478            1             0                1             0   \n",
       "622479            1             0                1             0   \n",
       "622480            1             0                1             0   \n",
       "622481            1             0                1             0   \n",
       "\n",
       "        AMT_INCOME_TOTAL  NAME_INCOME_TYPE  NAME_EDUCATION_TYPE  \\\n",
       "0               427500.0                 2                    1   \n",
       "1               427500.0                 2                    1   \n",
       "2               427500.0                 2                    1   \n",
       "3               427500.0                 2                    1   \n",
       "4               427500.0                 2                    1   \n",
       "...                  ...               ...                  ...   \n",
       "622477          112500.0                 2                    0   \n",
       "622478          112500.0                 2                    0   \n",
       "622479          112500.0                 2                    0   \n",
       "622480          112500.0                 2                    0   \n",
       "622481          112500.0                 2                    0   \n",
       "\n",
       "        NAME_FAMILY_STATUS  NAME_HOUSING_TYPE  FLAG_WORK_PHONE  FLAG_PHONE  \\\n",
       "0                        0                  4                1           0   \n",
       "1                        0                  4                1           0   \n",
       "2                        0                  4                1           0   \n",
       "3                        0                  4                1           0   \n",
       "4                        0                  4                1           0   \n",
       "...                    ...                ...              ...         ...   \n",
       "622477                   3                  4                0           0   \n",
       "622478                   3                  4                0           0   \n",
       "622479                   3                  4                0           0   \n",
       "622480                   3                  4                0           0   \n",
       "622481                   3                  4                0           0   \n",
       "\n",
       "        CNT_FAM_MEMBERS  first_month  STATUS  AGE_YEARS  YEARS_EMPLOYED  \n",
       "0                   2.0        -15.0     0.0       32.9            12.4  \n",
       "1                   2.0        -15.0     0.0       32.9            12.4  \n",
       "2                   2.0        -15.0     0.0       32.9            12.4  \n",
       "3                   2.0        -15.0     0.0       32.9            12.4  \n",
       "4                   2.0        -15.0     0.0       32.9            12.4  \n",
       "...                 ...          ...     ...        ...             ...  \n",
       "622477              1.0        -13.0     0.0       25.2             3.3  \n",
       "622478              1.0        -13.0     1.0       25.2             3.3  \n",
       "622479              1.0        -13.0     1.0       25.2             3.3  \n",
       "622480              1.0        -13.0     0.0       25.2             3.3  \n",
       "622481              1.0        -13.0     0.0       25.2             3.3  \n",
       "\n",
       "[612132 rows x 16 columns]"
      ]
     },
     "execution_count": 56,
     "metadata": {},
     "output_type": "execute_result"
    }
   ],
   "source": [
    "from sklearn.preprocessing import LabelEncoder\n",
    "\n",
    "# Create an instance of LabelEncoder\n",
    "encoder = LabelEncoder()\n",
    "\n",
    "# Define the list of categorical columns to encode\n",
    "columns = [\"CODE_GENDER\", \"FLAG_OWN_CAR\", \"FLAG_OWN_REALTY\", \n",
    "           \"NAME_INCOME_TYPE\", \"NAME_EDUCATION_TYPE\", \n",
    "           \"NAME_FAMILY_STATUS\", \"NAME_HOUSING_TYPE\"]\n",
    "\n",
    "# Create a copy of the data\n",
    "data2 = data\n",
    "\n",
    "# Loop through each column in the 'columns' list and apply LabelEncoder\n",
    "for column in columns:\n",
    "    # Encode the categorical column and update it in data2\n",
    "    data2[column] = encoder.fit_transform(data[column])\n",
    "\n",
    "# Display the transformed data\n",
    "data2"
   ]
  },
  {
   "cell_type": "code",
   "execution_count": 57,
   "id": "ff2b9756",
   "metadata": {},
   "outputs": [
    {
     "data": {
      "text/html": [
       "<div>\n",
       "<style scoped>\n",
       "    .dataframe tbody tr th:only-of-type {\n",
       "        vertical-align: middle;\n",
       "    }\n",
       "\n",
       "    .dataframe tbody tr th {\n",
       "        vertical-align: top;\n",
       "    }\n",
       "\n",
       "    .dataframe thead th {\n",
       "        text-align: right;\n",
       "    }\n",
       "</style>\n",
       "<table border=\"1\" class=\"dataframe\">\n",
       "  <thead>\n",
       "    <tr style=\"text-align: right;\">\n",
       "      <th></th>\n",
       "      <th>CODE_GENDER</th>\n",
       "      <th>FLAG_OWN_CAR</th>\n",
       "      <th>FLAG_OWN_REALTY</th>\n",
       "      <th>CNT_CHILDREN</th>\n",
       "      <th>AMT_INCOME_TOTAL</th>\n",
       "      <th>NAME_INCOME_TYPE</th>\n",
       "      <th>NAME_EDUCATION_TYPE</th>\n",
       "      <th>NAME_FAMILY_STATUS</th>\n",
       "      <th>NAME_HOUSING_TYPE</th>\n",
       "      <th>FLAG_WORK_PHONE</th>\n",
       "      <th>FLAG_PHONE</th>\n",
       "      <th>CNT_FAM_MEMBERS</th>\n",
       "      <th>first_month</th>\n",
       "      <th>STATUS</th>\n",
       "      <th>AGE_YEARS</th>\n",
       "      <th>YEARS_EMPLOYED</th>\n",
       "    </tr>\n",
       "  </thead>\n",
       "  <tbody>\n",
       "    <tr>\n",
       "      <th>0</th>\n",
       "      <td>1</td>\n",
       "      <td>1</td>\n",
       "      <td>1</td>\n",
       "      <td>0.0</td>\n",
       "      <td>0.898990</td>\n",
       "      <td>2</td>\n",
       "      <td>1</td>\n",
       "      <td>0</td>\n",
       "      <td>4</td>\n",
       "      <td>1.0</td>\n",
       "      <td>0.0</td>\n",
       "      <td>0.333333</td>\n",
       "      <td>0.750000</td>\n",
       "      <td>0.0</td>\n",
       "      <td>0.264392</td>\n",
       "      <td>0.480620</td>\n",
       "    </tr>\n",
       "    <tr>\n",
       "      <th>1</th>\n",
       "      <td>1</td>\n",
       "      <td>1</td>\n",
       "      <td>1</td>\n",
       "      <td>0.0</td>\n",
       "      <td>0.898990</td>\n",
       "      <td>2</td>\n",
       "      <td>1</td>\n",
       "      <td>0</td>\n",
       "      <td>4</td>\n",
       "      <td>1.0</td>\n",
       "      <td>0.0</td>\n",
       "      <td>0.333333</td>\n",
       "      <td>0.750000</td>\n",
       "      <td>0.0</td>\n",
       "      <td>0.264392</td>\n",
       "      <td>0.480620</td>\n",
       "    </tr>\n",
       "    <tr>\n",
       "      <th>2</th>\n",
       "      <td>1</td>\n",
       "      <td>1</td>\n",
       "      <td>1</td>\n",
       "      <td>0.0</td>\n",
       "      <td>0.898990</td>\n",
       "      <td>2</td>\n",
       "      <td>1</td>\n",
       "      <td>0</td>\n",
       "      <td>4</td>\n",
       "      <td>1.0</td>\n",
       "      <td>0.0</td>\n",
       "      <td>0.333333</td>\n",
       "      <td>0.750000</td>\n",
       "      <td>0.0</td>\n",
       "      <td>0.264392</td>\n",
       "      <td>0.480620</td>\n",
       "    </tr>\n",
       "    <tr>\n",
       "      <th>3</th>\n",
       "      <td>1</td>\n",
       "      <td>1</td>\n",
       "      <td>1</td>\n",
       "      <td>0.0</td>\n",
       "      <td>0.898990</td>\n",
       "      <td>2</td>\n",
       "      <td>1</td>\n",
       "      <td>0</td>\n",
       "      <td>4</td>\n",
       "      <td>1.0</td>\n",
       "      <td>0.0</td>\n",
       "      <td>0.333333</td>\n",
       "      <td>0.750000</td>\n",
       "      <td>0.0</td>\n",
       "      <td>0.264392</td>\n",
       "      <td>0.480620</td>\n",
       "    </tr>\n",
       "    <tr>\n",
       "      <th>4</th>\n",
       "      <td>1</td>\n",
       "      <td>1</td>\n",
       "      <td>1</td>\n",
       "      <td>0.0</td>\n",
       "      <td>0.898990</td>\n",
       "      <td>2</td>\n",
       "      <td>1</td>\n",
       "      <td>0</td>\n",
       "      <td>4</td>\n",
       "      <td>1.0</td>\n",
       "      <td>0.0</td>\n",
       "      <td>0.333333</td>\n",
       "      <td>0.750000</td>\n",
       "      <td>0.0</td>\n",
       "      <td>0.264392</td>\n",
       "      <td>0.480620</td>\n",
       "    </tr>\n",
       "    <tr>\n",
       "      <th>...</th>\n",
       "      <td>...</td>\n",
       "      <td>...</td>\n",
       "      <td>...</td>\n",
       "      <td>...</td>\n",
       "      <td>...</td>\n",
       "      <td>...</td>\n",
       "      <td>...</td>\n",
       "      <td>...</td>\n",
       "      <td>...</td>\n",
       "      <td>...</td>\n",
       "      <td>...</td>\n",
       "      <td>...</td>\n",
       "      <td>...</td>\n",
       "      <td>...</td>\n",
       "      <td>...</td>\n",
       "      <td>...</td>\n",
       "    </tr>\n",
       "    <tr>\n",
       "      <th>622477</th>\n",
       "      <td>1</td>\n",
       "      <td>0</td>\n",
       "      <td>1</td>\n",
       "      <td>0.0</td>\n",
       "      <td>0.191919</td>\n",
       "      <td>2</td>\n",
       "      <td>0</td>\n",
       "      <td>3</td>\n",
       "      <td>4</td>\n",
       "      <td>0.0</td>\n",
       "      <td>0.0</td>\n",
       "      <td>0.000000</td>\n",
       "      <td>0.783333</td>\n",
       "      <td>0.0</td>\n",
       "      <td>0.100213</td>\n",
       "      <td>0.127907</td>\n",
       "    </tr>\n",
       "    <tr>\n",
       "      <th>622478</th>\n",
       "      <td>1</td>\n",
       "      <td>0</td>\n",
       "      <td>1</td>\n",
       "      <td>0.0</td>\n",
       "      <td>0.191919</td>\n",
       "      <td>2</td>\n",
       "      <td>0</td>\n",
       "      <td>3</td>\n",
       "      <td>4</td>\n",
       "      <td>0.0</td>\n",
       "      <td>0.0</td>\n",
       "      <td>0.000000</td>\n",
       "      <td>0.783333</td>\n",
       "      <td>1.0</td>\n",
       "      <td>0.100213</td>\n",
       "      <td>0.127907</td>\n",
       "    </tr>\n",
       "    <tr>\n",
       "      <th>622479</th>\n",
       "      <td>1</td>\n",
       "      <td>0</td>\n",
       "      <td>1</td>\n",
       "      <td>0.0</td>\n",
       "      <td>0.191919</td>\n",
       "      <td>2</td>\n",
       "      <td>0</td>\n",
       "      <td>3</td>\n",
       "      <td>4</td>\n",
       "      <td>0.0</td>\n",
       "      <td>0.0</td>\n",
       "      <td>0.000000</td>\n",
       "      <td>0.783333</td>\n",
       "      <td>1.0</td>\n",
       "      <td>0.100213</td>\n",
       "      <td>0.127907</td>\n",
       "    </tr>\n",
       "    <tr>\n",
       "      <th>622480</th>\n",
       "      <td>1</td>\n",
       "      <td>0</td>\n",
       "      <td>1</td>\n",
       "      <td>0.0</td>\n",
       "      <td>0.191919</td>\n",
       "      <td>2</td>\n",
       "      <td>0</td>\n",
       "      <td>3</td>\n",
       "      <td>4</td>\n",
       "      <td>0.0</td>\n",
       "      <td>0.0</td>\n",
       "      <td>0.000000</td>\n",
       "      <td>0.783333</td>\n",
       "      <td>0.0</td>\n",
       "      <td>0.100213</td>\n",
       "      <td>0.127907</td>\n",
       "    </tr>\n",
       "    <tr>\n",
       "      <th>622481</th>\n",
       "      <td>1</td>\n",
       "      <td>0</td>\n",
       "      <td>1</td>\n",
       "      <td>0.0</td>\n",
       "      <td>0.191919</td>\n",
       "      <td>2</td>\n",
       "      <td>0</td>\n",
       "      <td>3</td>\n",
       "      <td>4</td>\n",
       "      <td>0.0</td>\n",
       "      <td>0.0</td>\n",
       "      <td>0.000000</td>\n",
       "      <td>0.783333</td>\n",
       "      <td>0.0</td>\n",
       "      <td>0.100213</td>\n",
       "      <td>0.127907</td>\n",
       "    </tr>\n",
       "  </tbody>\n",
       "</table>\n",
       "<p>612132 rows × 16 columns</p>\n",
       "</div>"
      ],
      "text/plain": [
       "        CODE_GENDER  FLAG_OWN_CAR  FLAG_OWN_REALTY  CNT_CHILDREN  \\\n",
       "0                 1             1                1           0.0   \n",
       "1                 1             1                1           0.0   \n",
       "2                 1             1                1           0.0   \n",
       "3                 1             1                1           0.0   \n",
       "4                 1             1                1           0.0   \n",
       "...             ...           ...              ...           ...   \n",
       "622477            1             0                1           0.0   \n",
       "622478            1             0                1           0.0   \n",
       "622479            1             0                1           0.0   \n",
       "622480            1             0                1           0.0   \n",
       "622481            1             0                1           0.0   \n",
       "\n",
       "        AMT_INCOME_TOTAL  NAME_INCOME_TYPE  NAME_EDUCATION_TYPE  \\\n",
       "0               0.898990                 2                    1   \n",
       "1               0.898990                 2                    1   \n",
       "2               0.898990                 2                    1   \n",
       "3               0.898990                 2                    1   \n",
       "4               0.898990                 2                    1   \n",
       "...                  ...               ...                  ...   \n",
       "622477          0.191919                 2                    0   \n",
       "622478          0.191919                 2                    0   \n",
       "622479          0.191919                 2                    0   \n",
       "622480          0.191919                 2                    0   \n",
       "622481          0.191919                 2                    0   \n",
       "\n",
       "        NAME_FAMILY_STATUS  NAME_HOUSING_TYPE  FLAG_WORK_PHONE  FLAG_PHONE  \\\n",
       "0                        0                  4              1.0         0.0   \n",
       "1                        0                  4              1.0         0.0   \n",
       "2                        0                  4              1.0         0.0   \n",
       "3                        0                  4              1.0         0.0   \n",
       "4                        0                  4              1.0         0.0   \n",
       "...                    ...                ...              ...         ...   \n",
       "622477                   3                  4              0.0         0.0   \n",
       "622478                   3                  4              0.0         0.0   \n",
       "622479                   3                  4              0.0         0.0   \n",
       "622480                   3                  4              0.0         0.0   \n",
       "622481                   3                  4              0.0         0.0   \n",
       "\n",
       "        CNT_FAM_MEMBERS  first_month  STATUS  AGE_YEARS  YEARS_EMPLOYED  \n",
       "0              0.333333     0.750000     0.0   0.264392        0.480620  \n",
       "1              0.333333     0.750000     0.0   0.264392        0.480620  \n",
       "2              0.333333     0.750000     0.0   0.264392        0.480620  \n",
       "3              0.333333     0.750000     0.0   0.264392        0.480620  \n",
       "4              0.333333     0.750000     0.0   0.264392        0.480620  \n",
       "...                 ...          ...     ...        ...             ...  \n",
       "622477         0.000000     0.783333     0.0   0.100213        0.127907  \n",
       "622478         0.000000     0.783333     1.0   0.100213        0.127907  \n",
       "622479         0.000000     0.783333     1.0   0.100213        0.127907  \n",
       "622480         0.000000     0.783333     0.0   0.100213        0.127907  \n",
       "622481         0.000000     0.783333     0.0   0.100213        0.127907  \n",
       "\n",
       "[612132 rows x 16 columns]"
      ]
     },
     "execution_count": 57,
     "metadata": {},
     "output_type": "execute_result"
    }
   ],
   "source": [
    "from sklearn.preprocessing import MinMaxScaler\n",
    "\n",
    "numerical_columns = data2.select_dtypes(include=['float64', 'int64']).columns\n",
    "\n",
    "\n",
    "scaler = MinMaxScaler()\n",
    "\n",
    "# Fit and transform the data\n",
    "data2[numerical_columns] = scaler.fit_transform(data2[numerical_columns])\n",
    "\n",
    "data2"
   ]
  },
  {
   "cell_type": "code",
   "execution_count": 58,
   "id": "89cabb73",
   "metadata": {},
   "outputs": [
    {
     "data": {
      "text/plain": [
       "STATUS\n",
       "0.0    602934\n",
       "1.0      9198\n",
       "Name: count, dtype: int64"
      ]
     },
     "execution_count": 58,
     "metadata": {},
     "output_type": "execute_result"
    }
   ],
   "source": [
    "data2[\"STATUS\"].value_counts()"
   ]
  },
  {
   "cell_type": "code",
   "execution_count": 59,
   "id": "e28692a4",
   "metadata": {},
   "outputs": [
    {
     "name": "stdout",
     "output_type": "stream",
     "text": [
      "Class Distribution After Balancing:\n",
      "STATUS\n",
      "1.0    0.5\n",
      "0.0    0.5\n",
      "Name: proportion, dtype: float64\n"
     ]
    }
   ],
   "source": [
    "# Current distribution\n",
    "total_samples = len(data2)  # Total number of rows in the original dataset\n",
    "desired_ratio_majority = 0.5\n",
    "desired_ratio_minority = 0.5\n",
    "\n",
    "# Calculate the desired number of samples for each class\n",
    "desired_majority_count = int(total_samples * desired_ratio_majority)\n",
    "desired_minority_count = int(total_samples * desired_ratio_minority)\n",
    "\n",
    "# Separate the dataset into majority and minority classes\n",
    "majority_class = data2[data2[\"STATUS\"] == 0.0]\n",
    "minority_class = data2[data2[\"STATUS\"] == 1.0]\n",
    "\n",
    "# Resample majority and minority classes\n",
    "majority_resampled = resample(\n",
    "    majority_class,\n",
    "    replace=False,  # Downsample the majority class\n",
    "    n_samples=desired_majority_count,\n",
    "    random_state=42\n",
    ")\n",
    "\n",
    "minority_resampled = resample(\n",
    "    minority_class,\n",
    "    replace=True,  # Upsample the minority class\n",
    "    n_samples=desired_minority_count,\n",
    "    random_state=42\n",
    ")\n",
    "\n",
    "# Combine the resampled datasets\n",
    "data_balanced = pd.concat([majority_resampled, minority_resampled])\n",
    "\n",
    "# Shuffle the dataset\n",
    "data_balanced = data_balanced.sample(frac=1, random_state=42).reset_index(drop=True)\n",
    "\n",
    "# Display the new class distribution\n",
    "print(\"Class Distribution After Balancing:\")\n",
    "print(data_balanced[\"STATUS\"].value_counts(normalize=True))"
   ]
  },
  {
   "cell_type": "code",
   "execution_count": 60,
   "id": "ba80b250",
   "metadata": {},
   "outputs": [
    {
     "data": {
      "image/png": "[encoded data removed]",
      "text/plain": [
       "<Figure size 1600x1000 with 2 Axes>"
      ]
     },
     "metadata": {},
     "output_type": "display_data"
    }
   ],
   "source": [
    "correlation_matrix = data_balanced.corr()\n",
    "plt.figure(figsize=(16, 10))\n",
    "sns.heatmap(correlation_matrix, annot=True, fmt=\".2f\", cmap=\"coolwarm\", cbar=True)\n",
    "plt.title(\"Correlation Matrix\")\n",
    "plt.show()"
   ]
  },
  {
   "cell_type": "code",
   "execution_count": 61,
   "id": "0245b40a",
   "metadata": {},
   "outputs": [],
   "source": [
    "from sklearn.model_selection import  train_test_split\n",
    "x = data_balanced.drop(columns=[\"STATUS\"]  , axis = 1 )\n",
    "y = data_balanced[\"STATUS\"]"
   ]
  },
  {
   "cell_type": "code",
   "execution_count": 62,
   "id": "4160b090",
   "metadata": {},
   "outputs": [
    {
     "name": "stdout",
     "output_type": "stream",
     "text": [
      "        Principal Component 1  Principal Component 2  Principal Component 3  \\\n",
      "0                   -0.282585              -0.595705               0.493905   \n",
      "1                   -0.628180               0.315706              -1.163537   \n",
      "2                    2.452392               0.099210              -1.759687   \n",
      "3                   -0.512709               0.460908              -1.280751   \n",
      "4                   -0.176655              -0.463490               0.477083   \n",
      "...                       ...                    ...                    ...   \n",
      "612127              -0.053911               1.339564               1.390597   \n",
      "612128              -0.194366              -0.504553               0.563179   \n",
      "612129               0.037283               2.069450               1.906849   \n",
      "612130               3.398826               0.271196              -2.035250   \n",
      "612131              -0.184109              -0.715334               0.531414   \n",
      "\n",
      "        Principal Component 4  Principal Component 5  Principal Component 6  \\\n",
      "0                    0.741474              -0.576960               0.690504   \n",
      "1                    0.048673              -0.563530              -0.202486   \n",
      "2                    0.873832               0.826359              -0.607391   \n",
      "3                   -0.393389               0.666735               0.361575   \n",
      "4                   -0.543798               0.106746               0.490766   \n",
      "...                       ...                    ...                    ...   \n",
      "612127              -0.385442              -0.332378               0.808647   \n",
      "612128              -0.586711               0.591543              -0.318487   \n",
      "612129               0.322740              -0.513741               0.031376   \n",
      "612130              -0.468874               1.059871               0.394913   \n",
      "612131               0.146048               0.540520              -0.336020   \n",
      "\n",
      "        Principal Component 7  Principal Component 8  Principal Component 9  \\\n",
      "0                   -0.085512              -0.191568               0.085874   \n",
      "1                    0.226920               0.749399               0.121132   \n",
      "2                    0.442637               0.107567               0.025159   \n",
      "3                   -0.387455              -0.145790              -0.714149   \n",
      "4                   -0.968729              -0.128154              -0.132463   \n",
      "...                       ...                    ...                    ...   \n",
      "612127              -0.169996              -0.149595               0.116764   \n",
      "612128              -0.165856               0.073937              -0.774476   \n",
      "612129               0.193830               0.816045               0.091428   \n",
      "612130               0.155388              -0.103970               0.079369   \n",
      "612131              -0.472494               0.761748               0.530584   \n",
      "\n",
      "        Principal Component 10  Principal Component 11  \\\n",
      "0                    -0.321276                0.329658   \n",
      "1                    -0.207480               -0.219624   \n",
      "2                    -0.190610               -0.302977   \n",
      "3                    -0.368966               -0.216004   \n",
      "4                    -0.234893               -0.057122   \n",
      "...                        ...                     ...   \n",
      "612127               -0.110855               -0.156720   \n",
      "612128               -0.287251               -0.075196   \n",
      "612129               -0.019643               -0.124739   \n",
      "612130               -0.251189               -0.021518   \n",
      "612131                0.286080                0.289018   \n",
      "\n",
      "        Principal Component 12  Principal Component 13  \\\n",
      "0                     0.226364               -0.092837   \n",
      "1                     0.098105                0.055852   \n",
      "2                    -0.189953                0.017676   \n",
      "3                    -0.135414                0.204409   \n",
      "4                    -0.246187               -0.195170   \n",
      "...                        ...                     ...   \n",
      "612127               -0.213994                0.269860   \n",
      "612128               -0.214128               -0.058429   \n",
      "612129                0.111422                0.438726   \n",
      "612130                0.320951                0.007896   \n",
      "612131                0.044011               -0.121704   \n",
      "\n",
      "        Principal Component 14  Principal Component 15  \n",
      "0                     0.140443               -0.015497  \n",
      "1                    -0.156799               -0.022186  \n",
      "2                    -0.157652               -0.031246  \n",
      "3                     0.179941               -0.025549  \n",
      "4                    -0.003425               -0.035084  \n",
      "...                        ...                     ...  \n",
      "612127                0.063999                0.020275  \n",
      "612128               -0.050654               -0.034508  \n",
      "612129                0.176075               -0.051009  \n",
      "612130               -0.021121               -0.026947  \n",
      "612131                0.148233               -0.002735  \n",
      "\n",
      "[612132 rows x 15 columns]\n"
     ]
    }
   ],
   "source": [
    "# Import PCA from sklearn's decomposition module\n",
    "from sklearn.decomposition import PCA\n",
    "\n",
    "# Initialize the PCA object (default settings will retain all components)\n",
    "pca = PCA()\n",
    "\n",
    "# Apply PCA to the data, transforming it to a new space of principal components\n",
    "# 'x' should be your feature matrix (2D array or DataFrame)\n",
    "pca_data = pca.fit_transform(x)\n",
    "\n",
    "# Create a DataFrame to store the transformed data (principal components)\n",
    "# Each column corresponds to a principal component (e.g., Principal Component 1, Principal Component 2, etc.)\n",
    "pca_df = pd.DataFrame(pca_data, columns=[f'Principal Component {i+1}' for i in range(pca_data.shape[1])])\n",
    "\n",
    "# Print the DataFrame with the transformed data\n",
    "print(pca_df)"
   ]
  },
  {
   "cell_type": "code",
   "execution_count": 63,
   "id": "c96b4449",
   "metadata": {},
   "outputs": [],
   "source": [
    "# Split Data\n",
    "x_train, x_test, y_train, y_test = train_test_split(pca_df, y, test_size=0.2, random_state=42)"
   ]
  },
  {
   "cell_type": "code",
   "execution_count": 64,
   "id": "7aeff772",
   "metadata": {},
   "outputs": [
    {
     "name": "stdout",
     "output_type": "stream",
     "text": [
      "Random Forest Accuracy: 0.8264\n",
      "Random Forest Classification Report:\n",
      "              precision    recall  f1-score   support\n",
      "\n",
      "         0.0       0.80      0.88      0.83     61263\n",
      "         1.0       0.86      0.78      0.82     61164\n",
      "\n",
      "    accuracy                           0.83    122427\n",
      "   macro avg       0.83      0.83      0.83    122427\n",
      "weighted avg       0.83      0.83      0.83    122427\n",
      "\n"
     ]
    }
   ],
   "source": [
    "from sklearn.ensemble import RandomForestClassifier\n",
    "from sklearn.metrics import accuracy_score, classification_report\n",
    "\n",
    "# Define the model with hyperparameters\n",
    "rf_model = RandomForestClassifier(n_estimators=100, max_depth=10, random_state=42)  # Adjust hyperparameters\n",
    "\n",
    "# Train the model\n",
    "rf_model.fit(x_train, y_train)\n",
    "\n",
    "# Make predictions on the test set\n",
    "rf_predictions = rf_model.predict(x_test)\n",
    "\n",
    "# Evaluate the model\n",
    "rf_accuracy = accuracy_score(y_test, rf_predictions)\n",
    "print(f\"Random Forest Accuracy: {rf_accuracy:.4f}\")\n",
    "print(\"Random Forest Classification Report:\")\n",
    "print(classification_report(y_test, rf_predictions))"
   ]
  },
  {
   "cell_type": "code",
   "execution_count": 65,
   "id": "c1fd3c68",
   "metadata": {},
   "outputs": [
    {
     "data": {
      "image/png": "[encoded data removed]",
      "text/plain": [
       "<Figure size 600x500 with 2 Axes>"
      ]
     },
     "metadata": {},
     "output_type": "display_data"
    }
   ],
   "source": [
    "from sklearn.metrics import confusion_matrix\n",
    "\n",
    "# Generate the confusion matrix for the Random Forest model\n",
    "rf_cm = confusion_matrix(y_test, rf_predictions)\n",
    "\n",
    "# Plot the confusion matrix using seaborn heatmap\n",
    "plt.figure(figsize=(6, 5))\n",
    "sns.heatmap(rf_cm, annot=True, fmt='d', cmap='Blues', xticklabels=[0, 1], yticklabels=[0, 1])\n",
    "plt.title(\"Random Forest Confusion Matrix\")\n",
    "plt.xlabel(\"Predicted Labels\")\n",
    "plt.ylabel(\"True Labels\")\n",
    "plt.show()"
   ]
  },
  {
   "cell_type": "code",
   "execution_count": 66,
   "id": "30d6159c",
   "metadata": {},
   "outputs": [
    {
     "name": "stdout",
     "output_type": "stream",
     "text": [
      "Logistic Regression Accuracy: 0.5544\n",
      "Logistic Regression Classification Report:\n",
      "              precision    recall  f1-score   support\n",
      "\n",
      "         0.0       0.56      0.55      0.55     61263\n",
      "         1.0       0.55      0.56      0.56     61164\n",
      "\n",
      "    accuracy                           0.55    122427\n",
      "   macro avg       0.55      0.55      0.55    122427\n",
      "weighted avg       0.55      0.55      0.55    122427\n",
      "\n"
     ]
    }
   ],
   "source": [
    "from sklearn.linear_model import LogisticRegression\n",
    "\n",
    "# Instantiate a LogisticRegression classifier with default parameter values\n",
    "logreg = LogisticRegression()\n",
    "\n",
    "# Fit logreg to the train set\n",
    "logreg.fit(x_train, y_train)\n",
    "\n",
    "# Make predictions on the test set\n",
    "logreg_predictions = logreg.predict(x_test)\n",
    "\n",
    "# Evaluate the model\n",
    "logreg_accuracy = accuracy_score(y_test, logreg_predictions)\n",
    "print(f\"Logistic Regression Accuracy: {logreg_accuracy:.4f}\")\n",
    "print(\"Logistic Regression Classification Report:\")\n",
    "print(classification_report(y_test, logreg_predictions))"
   ]
  },
  {
   "cell_type": "code",
   "execution_count": 67,
   "id": "a3c8cc54",
   "metadata": {},
   "outputs": [
    {
     "data": {
      "image/png": "[encoded data removed]",
      "text/plain": [
       "<Figure size 700x600 with 2 Axes>"
      ]
     },
     "metadata": {},
     "output_type": "display_data"
    }
   ],
   "source": [
    "# Generate the confusion matrix for the Logistic Regression model\n",
    "logreg_cm = confusion_matrix(y_test, logreg_predictions)\n",
    "\n",
    "# Plot the confusion matrix using seaborn heatmap\n",
    "plt.figure(figsize=(7, 6))\n",
    "sns.heatmap(rf_cm, annot=True, fmt='d', cmap='Blues', xticklabels=[0, 1], yticklabels=[0, 1])\n",
    "plt.title(\"Logistic Regression Confusion Matrix\")\n",
    "plt.xlabel(\"Predicted Labels\")\n",
    "plt.ylabel(\"True Labels\")\n",
    "plt.show()"
   ]
  },
  {
   "cell_type": "code",
   "execution_count": 68,
   "id": "0f06ac14",
   "metadata": {},
   "outputs": [
    {
     "name": "stdout",
     "output_type": "stream",
     "text": [
      "SVM Accuracy: 0.7416\n",
      "SVM Classification Report:\n",
      "              precision    recall  f1-score   support\n",
      "\n",
      "         0.0       0.73      0.76      0.75     61263\n",
      "         1.0       0.75      0.72      0.74     61164\n",
      "\n",
      "    accuracy                           0.74    122427\n",
      "   macro avg       0.74      0.74      0.74    122427\n",
      "weighted avg       0.74      0.74      0.74    122427\n",
      "\n"
     ]
    }
   ],
   "source": [
    "from sklearn.svm import SVC\n",
    "from sklearn.metrics import accuracy_score, classification_report\n",
    "\n",
    "# Instantiate an SVM classifier with default parameter values\n",
    "svm_model = SVC()\n",
    "\n",
    "# Fit SVM to the train set\n",
    "svm_model.fit(x_train, y_train)\n",
    "\n",
    "# Make predictions on the test set\n",
    "svm_predictions = svm_model.predict(x_test)\n",
    "\n",
    "# Evaluate the model\n",
    "svm_accuracy = accuracy_score(y_test, svm_predictions)\n",
    "print(f\"SVM Accuracy: {svm_accuracy:.4f}\")\n",
    "print(\"SVM Classification Report:\")\n",
    "print(classification_report(y_test, svm_predictions))"
   ]
  },
  {
   "cell_type": "code",
   "execution_count": null,
   "id": "11dcb8f3",
   "metadata": {},
   "outputs": [],
   "source": []
  }
 ],
 "metadata": {
  "kernelspec": {
   "display_name": "Python 3 (ipykernel)",
   "language": "python",
   "name": "python3"
  },
  "language_info": {
   "codemirror_mode": {
    "name": "ipython",
    "version": 3
   },
   "file_extension": ".py",
   "mimetype": "text/x-python",
   "name": "python",
   "nbconvert_exporter": "python",
   "pygments_lexer": "ipython3",
   "version": "3.11.7"
  }
 },
 "nbformat": 4,
 "nbformat_minor": 5
}
